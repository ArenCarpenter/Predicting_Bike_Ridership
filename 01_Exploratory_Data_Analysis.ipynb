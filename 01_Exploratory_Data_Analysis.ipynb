{
 "cells": [
  {
   "cell_type": "markdown",
   "metadata": {},
   "source": [
    "# Exploratory Data Analysis"
   ]
  },
  {
   "cell_type": "markdown",
   "metadata": {},
   "source": [
    "## Getting Started\n",
    "### Libraries to Import"
   ]
  },
  {
   "cell_type": "code",
   "execution_count": 1,
   "metadata": {},
   "outputs": [],
   "source": [
    "import pandas as pd\n",
    "import matplotlib.pyplot as plt\n",
    "import seaborn as sns\n",
    "sns.set_palette(\"muted\")"
   ]
  },
  {
   "cell_type": "markdown",
   "metadata": {},
   "source": [
    "### Read in Data\n",
    "\n",
    "This is a fairly common dataset, here sourced from [data.world](https://data.world/data-society/capital-bikeshare-2011-2012), but also available from the UCI database."
   ]
  },
  {
   "cell_type": "code",
   "execution_count": 2,
   "metadata": {},
   "outputs": [],
   "source": [
    "df = pd.read_csv('Data/bike_data.csv')"
   ]
  },
  {
   "cell_type": "markdown",
   "metadata": {},
   "source": [
    "## Data Cleaning"
   ]
  },
  {
   "cell_type": "code",
   "execution_count": 3,
   "metadata": {},
   "outputs": [
    {
     "data": {
      "text/plain": [
       "Date                   0\n",
       "Season                 0\n",
       "Hour                   0\n",
       "Holiday                0\n",
       "Day of the Week        0\n",
       "Working Day            0\n",
       "Weather Type           0\n",
       "Temperature F          0\n",
       "Temperature Feels F    0\n",
       "Humidity               0\n",
       "Wind Speed             0\n",
       "Casual Users           0\n",
       "Registered Users       0\n",
       "Total Users            0\n",
       "dtype: int64"
      ]
     },
     "execution_count": 3,
     "metadata": {},
     "output_type": "execute_result"
    }
   ],
   "source": [
    "df.isnull().sum()"
   ]
  },
  {
   "cell_type": "markdown",
   "metadata": {},
   "source": [
    "Our date column was an object, so transform to a datetime with pandas and create a new column for Month."
   ]
  },
  {
   "cell_type": "code",
   "execution_count": 4,
   "metadata": {},
   "outputs": [],
   "source": [
    "df.Date = pd.to_datetime(arg=df.Date)\n",
    "df['Month'] = df['Date'].dt.month"
   ]
  },
  {
   "cell_type": "code",
   "execution_count": 5,
   "metadata": {},
   "outputs": [
    {
     "data": {
      "text/plain": [
       "dtype('<M8[ns]')"
      ]
     },
     "execution_count": 5,
     "metadata": {},
     "output_type": "execute_result"
    }
   ],
   "source": [
    "df.Date.dtype"
   ]
  },
  {
   "cell_type": "markdown",
   "metadata": {},
   "source": [
    "Weather Type:\n",
    "- 1: Clear, Few clouds, Partly cloudy, Partly cloudy\n",
    "- 2: Mist + Cloudy, Mist + Broken clouds, Mist + Few clouds, Mist\n",
    "- 3: Light Snow, Light Rain + Thunderstorm + Scattered clouds, Light Rain + Scattered clouds\n",
    "- 4: Heavy Rain + Ice Pallets + Thunderstorm + Mist, Snow + Fog"
   ]
  },
  {
   "cell_type": "code",
   "execution_count": 6,
   "metadata": {},
   "outputs": [
    {
     "data": {
      "text/html": [
       "<div>\n",
       "<style scoped>\n",
       "    .dataframe tbody tr th:only-of-type {\n",
       "        vertical-align: middle;\n",
       "    }\n",
       "\n",
       "    .dataframe tbody tr th {\n",
       "        vertical-align: top;\n",
       "    }\n",
       "\n",
       "    .dataframe thead th {\n",
       "        text-align: right;\n",
       "    }\n",
       "</style>\n",
       "<table border=\"1\" class=\"dataframe\">\n",
       "  <thead>\n",
       "    <tr style=\"text-align: right;\">\n",
       "      <th></th>\n",
       "      <th>Date</th>\n",
       "      <th>Season</th>\n",
       "      <th>Hour</th>\n",
       "      <th>Holiday</th>\n",
       "      <th>Day of the Week</th>\n",
       "      <th>Working Day</th>\n",
       "      <th>Weather Type</th>\n",
       "      <th>Temperature F</th>\n",
       "      <th>Temperature Feels F</th>\n",
       "      <th>Humidity</th>\n",
       "      <th>Wind Speed</th>\n",
       "      <th>Casual Users</th>\n",
       "      <th>Registered Users</th>\n",
       "      <th>Total Users</th>\n",
       "      <th>Month</th>\n",
       "    </tr>\n",
       "  </thead>\n",
       "  <tbody>\n",
       "    <tr>\n",
       "      <th>17013</th>\n",
       "      <td>2012-12-16</td>\n",
       "      <td>4</td>\n",
       "      <td>16</td>\n",
       "      <td>0</td>\n",
       "      <td>0</td>\n",
       "      <td>0</td>\n",
       "      <td>2</td>\n",
       "      <td>48.7</td>\n",
       "      <td>50.0</td>\n",
       "      <td>82</td>\n",
       "      <td>7</td>\n",
       "      <td>66</td>\n",
       "      <td>334</td>\n",
       "      <td>400</td>\n",
       "      <td>12</td>\n",
       "    </tr>\n",
       "    <tr>\n",
       "      <th>4095</th>\n",
       "      <td>2011-06-24</td>\n",
       "      <td>2</td>\n",
       "      <td>13</td>\n",
       "      <td>0</td>\n",
       "      <td>5</td>\n",
       "      <td>1</td>\n",
       "      <td>1</td>\n",
       "      <td>84.9</td>\n",
       "      <td>87.8</td>\n",
       "      <td>36</td>\n",
       "      <td>15</td>\n",
       "      <td>43</td>\n",
       "      <td>178</td>\n",
       "      <td>221</td>\n",
       "      <td>6</td>\n",
       "    </tr>\n",
       "    <tr>\n",
       "      <th>2253</th>\n",
       "      <td>2011-04-08</td>\n",
       "      <td>1</td>\n",
       "      <td>18</td>\n",
       "      <td>0</td>\n",
       "      <td>5</td>\n",
       "      <td>1</td>\n",
       "      <td>3</td>\n",
       "      <td>43.5</td>\n",
       "      <td>39.2</td>\n",
       "      <td>93</td>\n",
       "      <td>17</td>\n",
       "      <td>8</td>\n",
       "      <td>54</td>\n",
       "      <td>62</td>\n",
       "      <td>4</td>\n",
       "    </tr>\n",
       "    <tr>\n",
       "      <th>9678</th>\n",
       "      <td>2012-02-13</td>\n",
       "      <td>4</td>\n",
       "      <td>5</td>\n",
       "      <td>0</td>\n",
       "      <td>1</td>\n",
       "      <td>1</td>\n",
       "      <td>1</td>\n",
       "      <td>24.5</td>\n",
       "      <td>17.6</td>\n",
       "      <td>58</td>\n",
       "      <td>9</td>\n",
       "      <td>0</td>\n",
       "      <td>17</td>\n",
       "      <td>17</td>\n",
       "      <td>2</td>\n",
       "    </tr>\n",
       "    <tr>\n",
       "      <th>15208</th>\n",
       "      <td>2012-09-30</td>\n",
       "      <td>3</td>\n",
       "      <td>21</td>\n",
       "      <td>0</td>\n",
       "      <td>0</td>\n",
       "      <td>0</td>\n",
       "      <td>1</td>\n",
       "      <td>59.0</td>\n",
       "      <td>60.8</td>\n",
       "      <td>68</td>\n",
       "      <td>0</td>\n",
       "      <td>19</td>\n",
       "      <td>104</td>\n",
       "      <td>123</td>\n",
       "      <td>9</td>\n",
       "    </tr>\n",
       "  </tbody>\n",
       "</table>\n",
       "</div>"
      ],
      "text/plain": [
       "            Date  Season  Hour  Holiday  Day of the Week  Working Day  \\\n",
       "17013 2012-12-16       4    16        0                0            0   \n",
       "4095  2011-06-24       2    13        0                5            1   \n",
       "2253  2011-04-08       1    18        0                5            1   \n",
       "9678  2012-02-13       4     5        0                1            1   \n",
       "15208 2012-09-30       3    21        0                0            0   \n",
       "\n",
       "       Weather Type  Temperature F  Temperature Feels F  Humidity  Wind Speed  \\\n",
       "17013             2           48.7                 50.0        82           7   \n",
       "4095              1           84.9                 87.8        36          15   \n",
       "2253              3           43.5                 39.2        93          17   \n",
       "9678              1           24.5                 17.6        58           9   \n",
       "15208             1           59.0                 60.8        68           0   \n",
       "\n",
       "       Casual Users  Registered Users  Total Users  Month  \n",
       "17013            66               334          400     12  \n",
       "4095             43               178          221      6  \n",
       "2253              8                54           62      4  \n",
       "9678              0                17           17      2  \n",
       "15208            19               104          123      9  "
      ]
     },
     "execution_count": 6,
     "metadata": {},
     "output_type": "execute_result"
    }
   ],
   "source": [
    "df.sample(5)"
   ]
  },
  {
   "cell_type": "markdown",
   "metadata": {},
   "source": [
    "## Data Visualization"
   ]
  },
  {
   "cell_type": "markdown",
   "metadata": {},
   "source": [
    "### Total Users Per Hour\n",
    "\n",
    "We see spikes during rush hour (8 am and 5-6 pm) due to business travel, as expected. We see a dropoff in ridership after 8 pm."
   ]
  },
  {
   "cell_type": "code",
   "execution_count": 19,
   "metadata": {
    "scrolled": true
   },
   "outputs": [
    {
     "data": {
      "text/plain": [
       "<matplotlib.axes._subplots.AxesSubplot at 0x7fa889eeba10>"
      ]
     },
     "execution_count": 19,
     "metadata": {},
     "output_type": "execute_result"
    },
    {
     "data": {
      "image/png": "[encoded data removed]",
      "text/plain": [
       "<Figure size 432x288 with 1 Axes>"
      ]
     },
     "metadata": {
      "needs_background": "light"
     },
     "output_type": "display_data"
    }
   ],
   "source": [
    "sns.barplot(data=df, x='Hour', y = 'Total Users', color = 'darkturquoise')"
   ]
  },
  {
   "cell_type": "code",
   "execution_count": 28,
   "metadata": {},
   "outputs": [
    {
     "data": {
      "text/plain": [
       "count    17379.000000\n",
       "mean        58.777507\n",
       "std         16.620757\n",
       "min         17.600000\n",
       "25%         45.200000\n",
       "50%         59.000000\n",
       "75%         72.800000\n",
       "max        102.200000\n",
       "Name: Temperature F, dtype: float64"
      ]
     },
     "execution_count": 28,
     "metadata": {},
     "output_type": "execute_result"
    }
   ],
   "source": [
    "df['Temperature F'].describe()"
   ]
  },
  {
   "cell_type": "markdown",
   "metadata": {},
   "source": [
    "### Temperature Distributions\n",
    "\n",
    "There is an interesting bimodal distribution of actual temperature in Fahrenheit. There are spikes at ~45 and ~70 degrees. We will see how this affects ridership later."
   ]
  },
  {
   "cell_type": "code",
   "execution_count": 31,
   "metadata": {},
   "outputs": [
    {
     "name": "stdout",
     "output_type": "stream",
     "text": [
      "The overall range of actual temperatures is:  [17.6, 102.2]\n"
     ]
    }
   ],
   "source": [
    "temp_f_range = [df['Temperature F'].min(), df['Temperature F'].max()]\n",
    "print('The overall range of actual temperatures is: ', temp_f_range)"
   ]
  },
  {
   "cell_type": "code",
   "execution_count": 20,
   "metadata": {
    "scrolled": true
   },
   "outputs": [
    {
     "data": {
      "text/plain": [
       "<matplotlib.axes._subplots.AxesSubplot at 0x7fa889ffb1d0>"
      ]
     },
     "execution_count": 20,
     "metadata": {},
     "output_type": "execute_result"
    },
    {
     "data": {
      "image/png": "[encoded data removed]",
      "text/plain": [
       "<Figure size 432x288 with 1 Axes>"
      ]
     },
     "metadata": {
      "needs_background": "light"
     },
     "output_type": "display_data"
    }
   ],
   "source": [
    "sns.distplot(df['Temperature F'], bins =40, color = 'darkturquoise')"
   ]
  },
  {
   "cell_type": "markdown",
   "metadata": {},
   "source": [
    "Accounting for humidity/wind, we generate the \"Feels Like\" temperature which generally created more extremes than the raw temperature. "
   ]
  },
  {
   "cell_type": "code",
   "execution_count": 32,
   "metadata": {},
   "outputs": [
    {
     "name": "stdout",
     "output_type": "stream",
     "text": [
      "The overall range of actual temperatures is:  [3.2, 122.0]\n"
     ]
    }
   ],
   "source": [
    "temp_feels_f_range = [df['Temperature Feels F'].min(), df['Temperature Feels F'].max()]\n",
    "print('The overall range of actual temperatures is: ', temp_feels_f_range)"
   ]
  },
  {
   "cell_type": "code",
   "execution_count": 21,
   "metadata": {
    "scrolled": true
   },
   "outputs": [
    {
     "data": {
      "text/plain": [
       "<matplotlib.axes._subplots.AxesSubplot at 0x7fa88a1272d0>"
      ]
     },
     "execution_count": 21,
     "metadata": {},
     "output_type": "execute_result"
    },
    {
     "data": {
      "image/png": "[encoded data removed]",
      "text/plain": [
       "<Figure size 432x288 with 1 Axes>"
      ]
     },
     "metadata": {
      "needs_background": "light"
     },
     "output_type": "display_data"
    }
   ],
   "source": [
    "sns.distplot(df['Temperature Feels F'], bins =40, color = 'darkturquoise')"
   ]
  },
  {
   "cell_type": "code",
   "execution_count": 22,
   "metadata": {
    "scrolled": false
   },
   "outputs": [
    {
     "data": {
      "text/plain": [
       "<matplotlib.axes._subplots.AxesSubplot at 0x7fa88a2ca4d0>"
      ]
     },
     "execution_count": 22,
     "metadata": {},
     "output_type": "execute_result"
    },
    {
     "data": {
      "image/png": "[encoded data removed]",
      "text/plain": [
       "<Figure size 432x288 with 1 Axes>"
      ]
     },
     "metadata": {
      "needs_background": "light"
     },
     "output_type": "display_data"
    }
   ],
   "source": [
    "df['Weather Type'].value_counts().plot(kind='barh', color = 'darkturquoise')"
   ]
  },
  {
   "cell_type": "code",
   "execution_count": 23,
   "metadata": {
    "scrolled": true
   },
   "outputs": [
    {
     "data": {
      "text/plain": [
       "<matplotlib.axes._subplots.AxesSubplot at 0x7fa88a4635d0>"
      ]
     },
     "execution_count": 23,
     "metadata": {},
     "output_type": "execute_result"
    },
    {
     "data": {
      "image/png": "[encoded data removed]",
      "text/plain": [
       "<Figure size 432x288 with 1 Axes>"
      ]
     },
     "metadata": {
      "needs_background": "light"
     },
     "output_type": "display_data"
    }
   ],
   "source": [
    "sns.barplot(data=df, x = 'Weather Type', y = 'Total Users', color = 'darkturquoise')"
   ]
  },
  {
   "cell_type": "code",
   "execution_count": 24,
   "metadata": {},
   "outputs": [
    {
     "data": {
      "text/plain": [
       "<matplotlib.axes._subplots.AxesSubplot at 0x7fa88a4e7790>"
      ]
     },
     "execution_count": 24,
     "metadata": {},
     "output_type": "execute_result"
    },
    {
     "data": {
      "image/png": "[encoded data removed]",
      "text/plain": [
       "<Figure size 432x288 with 1 Axes>"
      ]
     },
     "metadata": {
      "needs_background": "light"
     },
     "output_type": "display_data"
    }
   ],
   "source": [
    "sns.barplot(data=df, x = 'Day of the Week', y = 'Total Users', color = 'darkturquoise')"
   ]
  },
  {
   "cell_type": "code",
   "execution_count": 25,
   "metadata": {},
   "outputs": [
    {
     "data": {
      "text/plain": [
       "<matplotlib.axes._subplots.AxesSubplot at 0x7fa889919190>"
      ]
     },
     "execution_count": 25,
     "metadata": {},
     "output_type": "execute_result"
    },
    {
     "data": {
      "image/png": "[encoded data removed]",
      "text/plain": [
       "<Figure size 432x288 with 1 Axes>"
      ]
     },
     "metadata": {
      "needs_background": "light"
     },
     "output_type": "display_data"
    }
   ],
   "source": [
    "sns.lineplot(x=df.Date, y=df['Total Users'], color = 'darkturquoise')"
   ]
  },
  {
   "cell_type": "code",
   "execution_count": 26,
   "metadata": {},
   "outputs": [
    {
     "data": {
      "text/plain": [
       "<matplotlib.axes._subplots.AxesSubplot at 0x7fa88a463890>"
      ]
     },
     "execution_count": 26,
     "metadata": {},
     "output_type": "execute_result"
    },
    {
     "data": {
      "image/png": "[encoded data removed]",
      "text/plain": [
       "<Figure size 432x288 with 1 Axes>"
      ]
     },
     "metadata": {
      "needs_background": "light"
     },
     "output_type": "display_data"
    }
   ],
   "source": [
    "sns.lineplot(x=df.Month, y=df['Total Users'], color = 'darkturquoise')"
   ]
  },
  {
   "cell_type": "markdown",
   "metadata": {},
   "source": [
    "## Correlations"
   ]
  },
  {
   "cell_type": "code",
   "execution_count": 27,
   "metadata": {},
   "outputs": [
    {
     "data": {
      "text/html": [
       "<style  type=\"text/css\" >\n",
       "    #T_da27a060_2b53_11eb_83e2_acde48001122row0_col0 {\n",
       "            background-color:  #2f1436;\n",
       "            color:  #f1f1f1;\n",
       "        }    #T_da27a060_2b53_11eb_83e2_acde48001122row0_col1 {\n",
       "            background-color:  #5f65b5;\n",
       "            color:  #000000;\n",
       "        }    #T_da27a060_2b53_11eb_83e2_acde48001122row0_col2 {\n",
       "            background-color:  #6173ba;\n",
       "            color:  #000000;\n",
       "        }    #T_da27a060_2b53_11eb_83e2_acde48001122row0_col3 {\n",
       "            background-color:  #501a74;\n",
       "            color:  #f1f1f1;\n",
       "        }    #T_da27a060_2b53_11eb_83e2_acde48001122row0_col4 {\n",
       "            background-color:  #5f5ab1;\n",
       "            color:  #f1f1f1;\n",
       "        }    #T_da27a060_2b53_11eb_83e2_acde48001122row0_col5 {\n",
       "            background-color:  #5e45a6;\n",
       "            color:  #f1f1f1;\n",
       "        }    #T_da27a060_2b53_11eb_83e2_acde48001122row0_col6 {\n",
       "            background-color:  #301437;\n",
       "            color:  #f1f1f1;\n",
       "        }    #T_da27a060_2b53_11eb_83e2_acde48001122row0_col7 {\n",
       "            background-color:  #301437;\n",
       "            color:  #f1f1f1;\n",
       "        }    #T_da27a060_2b53_11eb_83e2_acde48001122row0_col8 {\n",
       "            background-color:  #657fbd;\n",
       "            color:  #000000;\n",
       "        }    #T_da27a060_2b53_11eb_83e2_acde48001122row0_col9 {\n",
       "            background-color:  #5f55af;\n",
       "            color:  #f1f1f1;\n",
       "        }    #T_da27a060_2b53_11eb_83e2_acde48001122row0_col10 {\n",
       "            background-color:  #501a74;\n",
       "            color:  #f1f1f1;\n",
       "        }    #T_da27a060_2b53_11eb_83e2_acde48001122row0_col11 {\n",
       "            background-color:  #5b3196;\n",
       "            color:  #f1f1f1;\n",
       "        }    #T_da27a060_2b53_11eb_83e2_acde48001122row0_col12 {\n",
       "            background-color:  #5b3095;\n",
       "            color:  #f1f1f1;\n",
       "        }    #T_da27a060_2b53_11eb_83e2_acde48001122row0_col13 {\n",
       "            background-color:  #7195c0;\n",
       "            color:  #000000;\n",
       "        }    #T_da27a060_2b53_11eb_83e2_acde48001122row1_col0 {\n",
       "            background-color:  #769cc1;\n",
       "            color:  #000000;\n",
       "        }    #T_da27a060_2b53_11eb_83e2_acde48001122row1_col1 {\n",
       "            background-color:  #2f1436;\n",
       "            color:  #f1f1f1;\n",
       "        }    #T_da27a060_2b53_11eb_83e2_acde48001122row1_col2 {\n",
       "            background-color:  #5f5ab1;\n",
       "            color:  #f1f1f1;\n",
       "        }    #T_da27a060_2b53_11eb_83e2_acde48001122row1_col3 {\n",
       "            background-color:  #501a74;\n",
       "            color:  #f1f1f1;\n",
       "        }    #T_da27a060_2b53_11eb_83e2_acde48001122row1_col4 {\n",
       "            background-color:  #606cb8;\n",
       "            color:  #000000;\n",
       "        }    #T_da27a060_2b53_11eb_83e2_acde48001122row1_col5 {\n",
       "            background-color:  #572588;\n",
       "            color:  #f1f1f1;\n",
       "        }    #T_da27a060_2b53_11eb_83e2_acde48001122row1_col6 {\n",
       "            background-color:  #b0c5cd;\n",
       "            color:  #000000;\n",
       "        }    #T_da27a060_2b53_11eb_83e2_acde48001122row1_col7 {\n",
       "            background-color:  #afc4cd;\n",
       "            color:  #000000;\n",
       "        }    #T_da27a060_2b53_11eb_83e2_acde48001122row1_col8 {\n",
       "            background-color:  #411254;\n",
       "            color:  #f1f1f1;\n",
       "        }    #T_da27a060_2b53_11eb_83e2_acde48001122row1_col9 {\n",
       "            background-color:  #7aa0c2;\n",
       "            color:  #000000;\n",
       "        }    #T_da27a060_2b53_11eb_83e2_acde48001122row1_col10 {\n",
       "            background-color:  #dcd9e0;\n",
       "            color:  #000000;\n",
       "        }    #T_da27a060_2b53_11eb_83e2_acde48001122row1_col11 {\n",
       "            background-color:  #e2d8df;\n",
       "            color:  #000000;\n",
       "        }    #T_da27a060_2b53_11eb_83e2_acde48001122row1_col12 {\n",
       "            background-color:  #ddd0ce;\n",
       "            color:  #000000;\n",
       "        }    #T_da27a060_2b53_11eb_83e2_acde48001122row1_col13 {\n",
       "            background-color:  #572588;\n",
       "            color:  #f1f1f1;\n",
       "        }    #T_da27a060_2b53_11eb_83e2_acde48001122row2_col0 {\n",
       "            background-color:  #89adc5;\n",
       "            color:  #000000;\n",
       "        }    #T_da27a060_2b53_11eb_83e2_acde48001122row2_col1 {\n",
       "            background-color:  #5f62b4;\n",
       "            color:  #f1f1f1;\n",
       "        }    #T_da27a060_2b53_11eb_83e2_acde48001122row2_col2 {\n",
       "            background-color:  #2f1436;\n",
       "            color:  #f1f1f1;\n",
       "        }    #T_da27a060_2b53_11eb_83e2_acde48001122row2_col3 {\n",
       "            background-color:  #301437;\n",
       "            color:  #f1f1f1;\n",
       "        }    #T_da27a060_2b53_11eb_83e2_acde48001122row2_col4 {\n",
       "            background-color:  #3b114a;\n",
       "            color:  #f1f1f1;\n",
       "        }    #T_da27a060_2b53_11eb_83e2_acde48001122row2_col5 {\n",
       "            background-color:  #58268a;\n",
       "            color:  #f1f1f1;\n",
       "        }    #T_da27a060_2b53_11eb_83e2_acde48001122row2_col6 {\n",
       "            background-color:  #6e91c0;\n",
       "            color:  #000000;\n",
       "        }    #T_da27a060_2b53_11eb_83e2_acde48001122row2_col7 {\n",
       "            background-color:  #6d90c0;\n",
       "            color:  #000000;\n",
       "        }    #T_da27a060_2b53_11eb_83e2_acde48001122row2_col8 {\n",
       "            background-color:  #6276ba;\n",
       "            color:  #000000;\n",
       "        }    #T_da27a060_2b53_11eb_83e2_acde48001122row2_col9 {\n",
       "            background-color:  #6069b7;\n",
       "            color:  #000000;\n",
       "        }    #T_da27a060_2b53_11eb_83e2_acde48001122row2_col10 {\n",
       "            background-color:  #6887be;\n",
       "            color:  #000000;\n",
       "        }    #T_da27a060_2b53_11eb_83e2_acde48001122row2_col11 {\n",
       "            background-color:  #5e4ba9;\n",
       "            color:  #f1f1f1;\n",
       "        }    #T_da27a060_2b53_11eb_83e2_acde48001122row2_col12 {\n",
       "            background-color:  #5f65b5;\n",
       "            color:  #000000;\n",
       "        }    #T_da27a060_2b53_11eb_83e2_acde48001122row2_col13 {\n",
       "            background-color:  #5b3196;\n",
       "            color:  #f1f1f1;\n",
       "        }    #T_da27a060_2b53_11eb_83e2_acde48001122row3_col0 {\n",
       "            background-color:  #759ac1;\n",
       "            color:  #000000;\n",
       "        }    #T_da27a060_2b53_11eb_83e2_acde48001122row3_col1 {\n",
       "            background-color:  #5f61b4;\n",
       "            color:  #f1f1f1;\n",
       "        }    #T_da27a060_2b53_11eb_83e2_acde48001122row3_col2 {\n",
       "            background-color:  #59288d;\n",
       "            color:  #f1f1f1;\n",
       "        }    #T_da27a060_2b53_11eb_83e2_acde48001122row3_col3 {\n",
       "            background-color:  #2f1436;\n",
       "            color:  #f1f1f1;\n",
       "        }    #T_da27a060_2b53_11eb_83e2_acde48001122row3_col4 {\n",
       "            background-color:  #637bbc;\n",
       "            color:  #000000;\n",
       "        }    #T_da27a060_2b53_11eb_83e2_acde48001122row3_col5 {\n",
       "            background-color:  #5b3095;\n",
       "            color:  #f1f1f1;\n",
       "        }    #T_da27a060_2b53_11eb_83e2_acde48001122row3_col6 {\n",
       "            background-color:  #759ac1;\n",
       "            color:  #000000;\n",
       "        }    #T_da27a060_2b53_11eb_83e2_acde48001122row3_col7 {\n",
       "            background-color:  #7297c1;\n",
       "            color:  #000000;\n",
       "        }    #T_da27a060_2b53_11eb_83e2_acde48001122row3_col8 {\n",
       "            background-color:  #606ab7;\n",
       "            color:  #000000;\n",
       "        }    #T_da27a060_2b53_11eb_83e2_acde48001122row3_col9 {\n",
       "            background-color:  #606db8;\n",
       "            color:  #000000;\n",
       "        }    #T_da27a060_2b53_11eb_83e2_acde48001122row3_col10 {\n",
       "            background-color:  #6887be;\n",
       "            color:  #000000;\n",
       "        }    #T_da27a060_2b53_11eb_83e2_acde48001122row3_col11 {\n",
       "            background-color:  #606cb8;\n",
       "            color:  #000000;\n",
       "        }    #T_da27a060_2b53_11eb_83e2_acde48001122row3_col12 {\n",
       "            background-color:  #647dbc;\n",
       "            color:  #000000;\n",
       "        }    #T_da27a060_2b53_11eb_83e2_acde48001122row3_col13 {\n",
       "            background-color:  #5a2d92;\n",
       "            color:  #f1f1f1;\n",
       "        }    #T_da27a060_2b53_11eb_83e2_acde48001122row4_col0 {\n",
       "            background-color:  #6c8ebf;\n",
       "            color:  #000000;\n",
       "        }    #T_da27a060_2b53_11eb_83e2_acde48001122row4_col1 {\n",
       "            background-color:  #5f64b5;\n",
       "            color:  #000000;\n",
       "        }    #T_da27a060_2b53_11eb_83e2_acde48001122row4_col2 {\n",
       "            background-color:  #301437;\n",
       "            color:  #f1f1f1;\n",
       "        }    #T_da27a060_2b53_11eb_83e2_acde48001122row4_col3 {\n",
       "            background-color:  #592a8f;\n",
       "            color:  #f1f1f1;\n",
       "        }    #T_da27a060_2b53_11eb_83e2_acde48001122row4_col4 {\n",
       "            background-color:  #2f1436;\n",
       "            color:  #f1f1f1;\n",
       "        }    #T_da27a060_2b53_11eb_83e2_acde48001122row4_col5 {\n",
       "            background-color:  #5e47a7;\n",
       "            color:  #f1f1f1;\n",
       "        }    #T_da27a060_2b53_11eb_83e2_acde48001122row4_col6 {\n",
       "            background-color:  #89adc5;\n",
       "            color:  #000000;\n",
       "        }    #T_da27a060_2b53_11eb_83e2_acde48001122row4_col7 {\n",
       "            background-color:  #88acc4;\n",
       "            color:  #000000;\n",
       "        }    #T_da27a060_2b53_11eb_83e2_acde48001122row4_col8 {\n",
       "            background-color:  #6580bd;\n",
       "            color:  #000000;\n",
       "        }    #T_da27a060_2b53_11eb_83e2_acde48001122row4_col9 {\n",
       "            background-color:  #5f62b4;\n",
       "            color:  #f1f1f1;\n",
       "        }    #T_da27a060_2b53_11eb_83e2_acde48001122row4_col10 {\n",
       "            background-color:  #3a1148;\n",
       "            color:  #f1f1f1;\n",
       "        }    #T_da27a060_2b53_11eb_83e2_acde48001122row4_col11 {\n",
       "            background-color:  #769bc1;\n",
       "            color:  #000000;\n",
       "        }    #T_da27a060_2b53_11eb_83e2_acde48001122row4_col12 {\n",
       "            background-color:  #657fbd;\n",
       "            color:  #000000;\n",
       "        }    #T_da27a060_2b53_11eb_83e2_acde48001122row4_col13 {\n",
       "            background-color:  #58268a;\n",
       "            color:  #f1f1f1;\n",
       "        }    #T_da27a060_2b53_11eb_83e2_acde48001122row5_col0 {\n",
       "            background-color:  #84a8c4;\n",
       "            color:  #000000;\n",
       "        }    #T_da27a060_2b53_11eb_83e2_acde48001122row5_col1 {\n",
       "            background-color:  #5f59b1;\n",
       "            color:  #f1f1f1;\n",
       "        }    #T_da27a060_2b53_11eb_83e2_acde48001122row5_col2 {\n",
       "            background-color:  #5e51ad;\n",
       "            color:  #f1f1f1;\n",
       "        }    #T_da27a060_2b53_11eb_83e2_acde48001122row5_col3 {\n",
       "            background-color:  #521c79;\n",
       "            color:  #f1f1f1;\n",
       "        }    #T_da27a060_2b53_11eb_83e2_acde48001122row5_col4 {\n",
       "            background-color:  #647ebc;\n",
       "            color:  #000000;\n",
       "        }    #T_da27a060_2b53_11eb_83e2_acde48001122row5_col5 {\n",
       "            background-color:  #2f1436;\n",
       "            color:  #f1f1f1;\n",
       "        }    #T_da27a060_2b53_11eb_83e2_acde48001122row5_col6 {\n",
       "            background-color:  #6276ba;\n",
       "            color:  #000000;\n",
       "        }    #T_da27a060_2b53_11eb_83e2_acde48001122row5_col7 {\n",
       "            background-color:  #6275ba;\n",
       "            color:  #000000;\n",
       "        }    #T_da27a060_2b53_11eb_83e2_acde48001122row5_col8 {\n",
       "            background-color:  #d7c4b9;\n",
       "            color:  #000000;\n",
       "        }    #T_da27a060_2b53_11eb_83e2_acde48001122row5_col9 {\n",
       "            background-color:  #6173ba;\n",
       "            color:  #000000;\n",
       "        }    #T_da27a060_2b53_11eb_83e2_acde48001122row5_col10 {\n",
       "            background-color:  #5c369b;\n",
       "            color:  #f1f1f1;\n",
       "        }    #T_da27a060_2b53_11eb_83e2_acde48001122row5_col11 {\n",
       "            background-color:  #59288d;\n",
       "            color:  #f1f1f1;\n",
       "        }    #T_da27a060_2b53_11eb_83e2_acde48001122row5_col12 {\n",
       "            background-color:  #5b3196;\n",
       "            color:  #f1f1f1;\n",
       "        }    #T_da27a060_2b53_11eb_83e2_acde48001122row5_col13 {\n",
       "            background-color:  #592a8f;\n",
       "            color:  #f1f1f1;\n",
       "        }    #T_da27a060_2b53_11eb_83e2_acde48001122row6_col0 {\n",
       "            background-color:  #301437;\n",
       "            color:  #f1f1f1;\n",
       "        }    #T_da27a060_2b53_11eb_83e2_acde48001122row6_col1 {\n",
       "            background-color:  #779dc2;\n",
       "            color:  #000000;\n",
       "        }    #T_da27a060_2b53_11eb_83e2_acde48001122row6_col2 {\n",
       "            background-color:  #5e4caa;\n",
       "            color:  #f1f1f1;\n",
       "        }    #T_da27a060_2b53_11eb_83e2_acde48001122row6_col3 {\n",
       "            background-color:  #511a75;\n",
       "            color:  #f1f1f1;\n",
       "        }    #T_da27a060_2b53_11eb_83e2_acde48001122row6_col4 {\n",
       "            background-color:  #6683bd;\n",
       "            color:  #000000;\n",
       "        }    #T_da27a060_2b53_11eb_83e2_acde48001122row6_col5 {\n",
       "            background-color:  #3d114e;\n",
       "            color:  #f1f1f1;\n",
       "        }    #T_da27a060_2b53_11eb_83e2_acde48001122row6_col6 {\n",
       "            background-color:  #2f1436;\n",
       "            color:  #f1f1f1;\n",
       "        }    #T_da27a060_2b53_11eb_83e2_acde48001122row6_col7 {\n",
       "            background-color:  #321237;\n",
       "            color:  #f1f1f1;\n",
       "        }    #T_da27a060_2b53_11eb_83e2_acde48001122row6_col8 {\n",
       "            background-color:  #5f5bb2;\n",
       "            color:  #f1f1f1;\n",
       "        }    #T_da27a060_2b53_11eb_83e2_acde48001122row6_col9 {\n",
       "            background-color:  #5f5db2;\n",
       "            color:  #f1f1f1;\n",
       "        }    #T_da27a060_2b53_11eb_83e2_acde48001122row6_col10 {\n",
       "            background-color:  #d0b39e;\n",
       "            color:  #000000;\n",
       "        }    #T_da27a060_2b53_11eb_83e2_acde48001122row6_col11 {\n",
       "            background-color:  #dbd8df;\n",
       "            color:  #000000;\n",
       "        }    #T_da27a060_2b53_11eb_83e2_acde48001122row6_col12 {\n",
       "            background-color:  #dbccc8;\n",
       "            color:  #000000;\n",
       "        }    #T_da27a060_2b53_11eb_83e2_acde48001122row6_col13 {\n",
       "            background-color:  #6c8fbf;\n",
       "            color:  #000000;\n",
       "        }    #T_da27a060_2b53_11eb_83e2_acde48001122row7_col0 {\n",
       "            background-color:  #301437;\n",
       "            color:  #f1f1f1;\n",
       "        }    #T_da27a060_2b53_11eb_83e2_acde48001122row7_col1 {\n",
       "            background-color:  #769bc1;\n",
       "            color:  #000000;\n",
       "        }    #T_da27a060_2b53_11eb_83e2_acde48001122row7_col2 {\n",
       "            background-color:  #5e4ba9;\n",
       "            color:  #f1f1f1;\n",
       "        }    #T_da27a060_2b53_11eb_83e2_acde48001122row7_col3 {\n",
       "            background-color:  #4f1970;\n",
       "            color:  #f1f1f1;\n",
       "        }    #T_da27a060_2b53_11eb_83e2_acde48001122row7_col4 {\n",
       "            background-color:  #6683bd;\n",
       "            color:  #000000;\n",
       "        }    #T_da27a060_2b53_11eb_83e2_acde48001122row7_col5 {\n",
       "            background-color:  #3c114b;\n",
       "            color:  #f1f1f1;\n",
       "        }    #T_da27a060_2b53_11eb_83e2_acde48001122row7_col6 {\n",
       "            background-color:  #321237;\n",
       "            color:  #f1f1f1;\n",
       "        }    #T_da27a060_2b53_11eb_83e2_acde48001122row7_col7 {\n",
       "            background-color:  #2f1436;\n",
       "            color:  #f1f1f1;\n",
       "        }    #T_da27a060_2b53_11eb_83e2_acde48001122row7_col8 {\n",
       "            background-color:  #5f64b5;\n",
       "            color:  #000000;\n",
       "        }    #T_da27a060_2b53_11eb_83e2_acde48001122row7_col9 {\n",
       "            background-color:  #5e4ba9;\n",
       "            color:  #f1f1f1;\n",
       "        }    #T_da27a060_2b53_11eb_83e2_acde48001122row7_col10 {\n",
       "            background-color:  #d1b5a1;\n",
       "            color:  #000000;\n",
       "        }    #T_da27a060_2b53_11eb_83e2_acde48001122row7_col11 {\n",
       "            background-color:  #dad8df;\n",
       "            color:  #000000;\n",
       "        }    #T_da27a060_2b53_11eb_83e2_acde48001122row7_col12 {\n",
       "            background-color:  #dccdca;\n",
       "            color:  #000000;\n",
       "        }    #T_da27a060_2b53_11eb_83e2_acde48001122row7_col13 {\n",
       "            background-color:  #6e92c0;\n",
       "            color:  #000000;\n",
       "        }    #T_da27a060_2b53_11eb_83e2_acde48001122row8_col0 {\n",
       "            background-color:  #7aa0c2;\n",
       "            color:  #000000;\n",
       "        }    #T_da27a060_2b53_11eb_83e2_acde48001122row8_col1 {\n",
       "            background-color:  #301437;\n",
       "            color:  #f1f1f1;\n",
       "        }    #T_da27a060_2b53_11eb_83e2_acde48001122row8_col2 {\n",
       "            background-color:  #5e54ae;\n",
       "            color:  #f1f1f1;\n",
       "        }    #T_da27a060_2b53_11eb_83e2_acde48001122row8_col3 {\n",
       "            background-color:  #44135a;\n",
       "            color:  #f1f1f1;\n",
       "        }    #T_da27a060_2b53_11eb_83e2_acde48001122row8_col4 {\n",
       "            background-color:  #6172ba;\n",
       "            color:  #000000;\n",
       "        }    #T_da27a060_2b53_11eb_83e2_acde48001122row8_col5 {\n",
       "            background-color:  #e1d9e2;\n",
       "            color:  #000000;\n",
       "        }    #T_da27a060_2b53_11eb_83e2_acde48001122row8_col6 {\n",
       "            background-color:  #6683bd;\n",
       "            color:  #000000;\n",
       "        }    #T_da27a060_2b53_11eb_83e2_acde48001122row8_col7 {\n",
       "            background-color:  #6888be;\n",
       "            color:  #000000;\n",
       "        }    #T_da27a060_2b53_11eb_83e2_acde48001122row8_col8 {\n",
       "            background-color:  #2f1436;\n",
       "            color:  #f1f1f1;\n",
       "        }    #T_da27a060_2b53_11eb_83e2_acde48001122row8_col9 {\n",
       "            background-color:  #301437;\n",
       "            color:  #f1f1f1;\n",
       "        }    #T_da27a060_2b53_11eb_83e2_acde48001122row8_col10 {\n",
       "            background-color:  #301437;\n",
       "            color:  #f1f1f1;\n",
       "        }    #T_da27a060_2b53_11eb_83e2_acde48001122row8_col11 {\n",
       "            background-color:  #301437;\n",
       "            color:  #f1f1f1;\n",
       "        }    #T_da27a060_2b53_11eb_83e2_acde48001122row8_col12 {\n",
       "            background-color:  #301437;\n",
       "            color:  #f1f1f1;\n",
       "        }    #T_da27a060_2b53_11eb_83e2_acde48001122row8_col13 {\n",
       "            background-color:  #647dbc;\n",
       "            color:  #000000;\n",
       "        }    #T_da27a060_2b53_11eb_83e2_acde48001122row9_col0 {\n",
       "            background-color:  #6b8dbf;\n",
       "            color:  #000000;\n",
       "        }    #T_da27a060_2b53_11eb_83e2_acde48001122row9_col1 {\n",
       "            background-color:  #779dc2;\n",
       "            color:  #000000;\n",
       "        }    #T_da27a060_2b53_11eb_83e2_acde48001122row9_col2 {\n",
       "            background-color:  #5f5bb2;\n",
       "            color:  #f1f1f1;\n",
       "        }    #T_da27a060_2b53_11eb_83e2_acde48001122row9_col3 {\n",
       "            background-color:  #551f7f;\n",
       "            color:  #f1f1f1;\n",
       "        }    #T_da27a060_2b53_11eb_83e2_acde48001122row9_col4 {\n",
       "            background-color:  #6066b6;\n",
       "            color:  #000000;\n",
       "        }    #T_da27a060_2b53_11eb_83e2_acde48001122row9_col5 {\n",
       "            background-color:  #5d3da1;\n",
       "            color:  #f1f1f1;\n",
       "        }    #T_da27a060_2b53_11eb_83e2_acde48001122row9_col6 {\n",
       "            background-color:  #6f93c0;\n",
       "            color:  #000000;\n",
       "        }    #T_da27a060_2b53_11eb_83e2_acde48001122row9_col7 {\n",
       "            background-color:  #6785be;\n",
       "            color:  #000000;\n",
       "        }    #T_da27a060_2b53_11eb_83e2_acde48001122row9_col8 {\n",
       "            background-color:  #3d114d;\n",
       "            color:  #f1f1f1;\n",
       "        }    #T_da27a060_2b53_11eb_83e2_acde48001122row9_col9 {\n",
       "            background-color:  #2f1436;\n",
       "            color:  #f1f1f1;\n",
       "        }    #T_da27a060_2b53_11eb_83e2_acde48001122row9_col10 {\n",
       "            background-color:  #779dc2;\n",
       "            color:  #000000;\n",
       "        }    #T_da27a060_2b53_11eb_83e2_acde48001122row9_col11 {\n",
       "            background-color:  #6786be;\n",
       "            color:  #000000;\n",
       "        }    #T_da27a060_2b53_11eb_83e2_acde48001122row9_col12 {\n",
       "            background-color:  #7398c1;\n",
       "            color:  #000000;\n",
       "        }    #T_da27a060_2b53_11eb_83e2_acde48001122row9_col13 {\n",
       "            background-color:  #301437;\n",
       "            color:  #f1f1f1;\n",
       "        }    #T_da27a060_2b53_11eb_83e2_acde48001122row10_col0 {\n",
       "            background-color:  #5e43a5;\n",
       "            color:  #f1f1f1;\n",
       "        }    #T_da27a060_2b53_11eb_83e2_acde48001122row10_col1 {\n",
       "            background-color:  #cdd3d8;\n",
       "            color:  #000000;\n",
       "        }    #T_da27a060_2b53_11eb_83e2_acde48001122row10_col2 {\n",
       "            background-color:  #6068b6;\n",
       "            color:  #000000;\n",
       "        }    #T_da27a060_2b53_11eb_83e2_acde48001122row10_col3 {\n",
       "            background-color:  #59298e;\n",
       "            color:  #f1f1f1;\n",
       "        }    #T_da27a060_2b53_11eb_83e2_acde48001122row10_col4 {\n",
       "            background-color:  #301437;\n",
       "            color:  #f1f1f1;\n",
       "        }    #T_da27a060_2b53_11eb_83e2_acde48001122row10_col5 {\n",
       "            background-color:  #301437;\n",
       "            color:  #f1f1f1;\n",
       "        }    #T_da27a060_2b53_11eb_83e2_acde48001122row10_col6 {\n",
       "            background-color:  #cb9f83;\n",
       "            color:  #000000;\n",
       "        }    #T_da27a060_2b53_11eb_83e2_acde48001122row10_col7 {\n",
       "            background-color:  #cca186;\n",
       "            color:  #000000;\n",
       "        }    #T_da27a060_2b53_11eb_83e2_acde48001122row10_col8 {\n",
       "            background-color:  #301437;\n",
       "            color:  #f1f1f1;\n",
       "        }    #T_da27a060_2b53_11eb_83e2_acde48001122row10_col9 {\n",
       "            background-color:  #6c8ebf;\n",
       "            color:  #000000;\n",
       "        }    #T_da27a060_2b53_11eb_83e2_acde48001122row10_col10 {\n",
       "            background-color:  #2f1436;\n",
       "            color:  #f1f1f1;\n",
       "        }    #T_da27a060_2b53_11eb_83e2_acde48001122row10_col11 {\n",
       "            background-color:  #ceab92;\n",
       "            color:  #000000;\n",
       "        }    #T_da27a060_2b53_11eb_83e2_acde48001122row10_col12 {\n",
       "            background-color:  #ab4b50;\n",
       "            color:  #f1f1f1;\n",
       "        }    #T_da27a060_2b53_11eb_83e2_acde48001122row10_col13 {\n",
       "            background-color:  #5e4caa;\n",
       "            color:  #f1f1f1;\n",
       "        }    #T_da27a060_2b53_11eb_83e2_acde48001122row11_col0 {\n",
       "            background-color:  #6277bb;\n",
       "            color:  #000000;\n",
       "        }    #T_da27a060_2b53_11eb_83e2_acde48001122row11_col1 {\n",
       "            background-color:  #e2d8df;\n",
       "            color:  #000000;\n",
       "        }    #T_da27a060_2b53_11eb_83e2_acde48001122row11_col2 {\n",
       "            background-color:  #5d42a4;\n",
       "            color:  #f1f1f1;\n",
       "        }    #T_da27a060_2b53_11eb_83e2_acde48001122row11_col3 {\n",
       "            background-color:  #572487;\n",
       "            color:  #f1f1f1;\n",
       "        }    #T_da27a060_2b53_11eb_83e2_acde48001122row11_col4 {\n",
       "            background-color:  #7ca2c2;\n",
       "            color:  #000000;\n",
       "        }    #T_da27a060_2b53_11eb_83e2_acde48001122row11_col5 {\n",
       "            background-color:  #371144;\n",
       "            color:  #f1f1f1;\n",
       "        }    #T_da27a060_2b53_11eb_83e2_acde48001122row11_col6 {\n",
       "            background-color:  #dccdca;\n",
       "            color:  #000000;\n",
       "        }    #T_da27a060_2b53_11eb_83e2_acde48001122row11_col7 {\n",
       "            background-color:  #dccecb;\n",
       "            color:  #000000;\n",
       "        }    #T_da27a060_2b53_11eb_83e2_acde48001122row11_col8 {\n",
       "            background-color:  #411256;\n",
       "            color:  #f1f1f1;\n",
       "        }    #T_da27a060_2b53_11eb_83e2_acde48001122row11_col9 {\n",
       "            background-color:  #6a8bbf;\n",
       "            color:  #000000;\n",
       "        }    #T_da27a060_2b53_11eb_83e2_acde48001122row11_col10 {\n",
       "            background-color:  #cb9d82;\n",
       "            color:  #000000;\n",
       "        }    #T_da27a060_2b53_11eb_83e2_acde48001122row11_col11 {\n",
       "            background-color:  #2f1436;\n",
       "            color:  #f1f1f1;\n",
       "        }    #T_da27a060_2b53_11eb_83e2_acde48001122row11_col12 {\n",
       "            background-color:  #361138;\n",
       "            color:  #f1f1f1;\n",
       "        }    #T_da27a060_2b53_11eb_83e2_acde48001122row11_col13 {\n",
       "            background-color:  #6068b6;\n",
       "            color:  #000000;\n",
       "        }    #T_da27a060_2b53_11eb_83e2_acde48001122row12_col0 {\n",
       "            background-color:  #6066b6;\n",
       "            color:  #000000;\n",
       "        }    #T_da27a060_2b53_11eb_83e2_acde48001122row12_col1 {\n",
       "            background-color:  #e0d6d9;\n",
       "            color:  #000000;\n",
       "        }    #T_da27a060_2b53_11eb_83e2_acde48001122row12_col2 {\n",
       "            background-color:  #5e4ba9;\n",
       "            color:  #f1f1f1;\n",
       "        }    #T_da27a060_2b53_11eb_83e2_acde48001122row12_col3 {\n",
       "            background-color:  #58268a;\n",
       "            color:  #f1f1f1;\n",
       "        }    #T_da27a060_2b53_11eb_83e2_acde48001122row12_col4 {\n",
       "            background-color:  #6278bb;\n",
       "            color:  #000000;\n",
       "        }    #T_da27a060_2b53_11eb_83e2_acde48001122row12_col5 {\n",
       "            background-color:  #32123a;\n",
       "            color:  #f1f1f1;\n",
       "        }    #T_da27a060_2b53_11eb_83e2_acde48001122row12_col6 {\n",
       "            background-color:  #d1b5a1;\n",
       "            color:  #000000;\n",
       "        }    #T_da27a060_2b53_11eb_83e2_acde48001122row12_col7 {\n",
       "            background-color:  #d1b6a3;\n",
       "            color:  #000000;\n",
       "        }    #T_da27a060_2b53_11eb_83e2_acde48001122row12_col8 {\n",
       "            background-color:  #34113f;\n",
       "            color:  #f1f1f1;\n",
       "        }    #T_da27a060_2b53_11eb_83e2_acde48001122row12_col9 {\n",
       "            background-color:  #6c8fbf;\n",
       "            color:  #000000;\n",
       "        }    #T_da27a060_2b53_11eb_83e2_acde48001122row12_col10 {\n",
       "            background-color:  #a94950;\n",
       "            color:  #f1f1f1;\n",
       "        }    #T_da27a060_2b53_11eb_83e2_acde48001122row12_col11 {\n",
       "            background-color:  #361139;\n",
       "            color:  #f1f1f1;\n",
       "        }    #T_da27a060_2b53_11eb_83e2_acde48001122row12_col12 {\n",
       "            background-color:  #2f1436;\n",
       "            color:  #f1f1f1;\n",
       "        }    #T_da27a060_2b53_11eb_83e2_acde48001122row12_col13 {\n",
       "            background-color:  #6068b6;\n",
       "            color:  #000000;\n",
       "        }    #T_da27a060_2b53_11eb_83e2_acde48001122row13_col0 {\n",
       "            background-color:  #d5d6dc;\n",
       "            color:  #000000;\n",
       "        }    #T_da27a060_2b53_11eb_83e2_acde48001122row13_col1 {\n",
       "            background-color:  #5f60b4;\n",
       "            color:  #f1f1f1;\n",
       "        }    #T_da27a060_2b53_11eb_83e2_acde48001122row13_col2 {\n",
       "            background-color:  #5f62b4;\n",
       "            color:  #f1f1f1;\n",
       "        }    #T_da27a060_2b53_11eb_83e2_acde48001122row13_col3 {\n",
       "            background-color:  #551f7f;\n",
       "            color:  #f1f1f1;\n",
       "        }    #T_da27a060_2b53_11eb_83e2_acde48001122row13_col4 {\n",
       "            background-color:  #6069b7;\n",
       "            color:  #000000;\n",
       "        }    #T_da27a060_2b53_11eb_83e2_acde48001122row13_col5 {\n",
       "            background-color:  #5b3196;\n",
       "            color:  #f1f1f1;\n",
       "        }    #T_da27a060_2b53_11eb_83e2_acde48001122row13_col6 {\n",
       "            background-color:  #d1d5da;\n",
       "            color:  #000000;\n",
       "        }    #T_da27a060_2b53_11eb_83e2_acde48001122row13_col7 {\n",
       "            background-color:  #d3d6db;\n",
       "            color:  #000000;\n",
       "        }    #T_da27a060_2b53_11eb_83e2_acde48001122row13_col8 {\n",
       "            background-color:  #97b7c7;\n",
       "            color:  #000000;\n",
       "        }    #T_da27a060_2b53_11eb_83e2_acde48001122row13_col9 {\n",
       "            background-color:  #59288d;\n",
       "            color:  #f1f1f1;\n",
       "        }    #T_da27a060_2b53_11eb_83e2_acde48001122row13_col10 {\n",
       "            background-color:  #7195c0;\n",
       "            color:  #000000;\n",
       "        }    #T_da27a060_2b53_11eb_83e2_acde48001122row13_col11 {\n",
       "            background-color:  #7196c1;\n",
       "            color:  #000000;\n",
       "        }    #T_da27a060_2b53_11eb_83e2_acde48001122row13_col12 {\n",
       "            background-color:  #7ca2c2;\n",
       "            color:  #000000;\n",
       "        }    #T_da27a060_2b53_11eb_83e2_acde48001122row13_col13 {\n",
       "            background-color:  #2f1436;\n",
       "            color:  #f1f1f1;\n",
       "        }</style><table id=\"T_da27a060_2b53_11eb_83e2_acde48001122\" ><thead>    <tr>        <th class=\"blank level0\" ></th>        <th class=\"col_heading level0 col0\" >Season</th>        <th class=\"col_heading level0 col1\" >Hour</th>        <th class=\"col_heading level0 col2\" >Holiday</th>        <th class=\"col_heading level0 col3\" >Day of the Week</th>        <th class=\"col_heading level0 col4\" >Working Day</th>        <th class=\"col_heading level0 col5\" >Weather Type</th>        <th class=\"col_heading level0 col6\" >Temperature F</th>        <th class=\"col_heading level0 col7\" >Temperature Feels F</th>        <th class=\"col_heading level0 col8\" >Humidity</th>        <th class=\"col_heading level0 col9\" >Wind Speed</th>        <th class=\"col_heading level0 col10\" >Casual Users</th>        <th class=\"col_heading level0 col11\" >Registered Users</th>        <th class=\"col_heading level0 col12\" >Total Users</th>        <th class=\"col_heading level0 col13\" >Month</th>    </tr></thead><tbody>\n",
       "                <tr>\n",
       "                        <th id=\"T_da27a060_2b53_11eb_83e2_acde48001122level0_row0\" class=\"row_heading level0 row0\" >Season</th>\n",
       "                        <td id=\"T_da27a060_2b53_11eb_83e2_acde48001122row0_col0\" class=\"data row0 col0\" >1.00</td>\n",
       "                        <td id=\"T_da27a060_2b53_11eb_83e2_acde48001122row0_col1\" class=\"data row0 col1\" >0.00</td>\n",
       "                        <td id=\"T_da27a060_2b53_11eb_83e2_acde48001122row0_col2\" class=\"data row0 col2\" >0.06</td>\n",
       "                        <td id=\"T_da27a060_2b53_11eb_83e2_acde48001122row0_col3\" class=\"data row0 col3\" >-0.00</td>\n",
       "                        <td id=\"T_da27a060_2b53_11eb_83e2_acde48001122row0_col4\" class=\"data row0 col4\" >-0.04</td>\n",
       "                        <td id=\"T_da27a060_2b53_11eb_83e2_acde48001122row0_col5\" class=\"data row0 col5\" >0.04</td>\n",
       "                        <td id=\"T_da27a060_2b53_11eb_83e2_acde48001122row0_col6\" class=\"data row0 col6\" >-0.47</td>\n",
       "                        <td id=\"T_da27a060_2b53_11eb_83e2_acde48001122row0_col7\" class=\"data row0 col7\" >-0.47</td>\n",
       "                        <td id=\"T_da27a060_2b53_11eb_83e2_acde48001122row0_col8\" class=\"data row0 col8\" >0.01</td>\n",
       "                        <td id=\"T_da27a060_2b53_11eb_83e2_acde48001122row0_col9\" class=\"data row0 col9\" >-0.04</td>\n",
       "                        <td id=\"T_da27a060_2b53_11eb_83e2_acde48001122row0_col10\" class=\"data row0 col10\" >-0.23</td>\n",
       "                        <td id=\"T_da27a060_2b53_11eb_83e2_acde48001122row0_col11\" class=\"data row0 col11\" >-0.10</td>\n",
       "                        <td id=\"T_da27a060_2b53_11eb_83e2_acde48001122row0_col12\" class=\"data row0 col12\" >-0.14</td>\n",
       "                        <td id=\"T_da27a060_2b53_11eb_83e2_acde48001122row0_col13\" class=\"data row0 col13\" >0.21</td>\n",
       "            </tr>\n",
       "            <tr>\n",
       "                        <th id=\"T_da27a060_2b53_11eb_83e2_acde48001122level0_row1\" class=\"row_heading level0 row1\" >Hour</th>\n",
       "                        <td id=\"T_da27a060_2b53_11eb_83e2_acde48001122row1_col0\" class=\"data row1 col0\" >0.00</td>\n",
       "                        <td id=\"T_da27a060_2b53_11eb_83e2_acde48001122row1_col1\" class=\"data row1 col1\" >1.00</td>\n",
       "                        <td id=\"T_da27a060_2b53_11eb_83e2_acde48001122row1_col2\" class=\"data row1 col2\" >0.00</td>\n",
       "                        <td id=\"T_da27a060_2b53_11eb_83e2_acde48001122row1_col3\" class=\"data row1 col3\" >-0.00</td>\n",
       "                        <td id=\"T_da27a060_2b53_11eb_83e2_acde48001122row1_col4\" class=\"data row1 col4\" >0.00</td>\n",
       "                        <td id=\"T_da27a060_2b53_11eb_83e2_acde48001122row1_col5\" class=\"data row1 col5\" >-0.02</td>\n",
       "                        <td id=\"T_da27a060_2b53_11eb_83e2_acde48001122row1_col6\" class=\"data row1 col6\" >0.14</td>\n",
       "                        <td id=\"T_da27a060_2b53_11eb_83e2_acde48001122row1_col7\" class=\"data row1 col7\" >0.13</td>\n",
       "                        <td id=\"T_da27a060_2b53_11eb_83e2_acde48001122row1_col8\" class=\"data row1 col8\" >-0.28</td>\n",
       "                        <td id=\"T_da27a060_2b53_11eb_83e2_acde48001122row1_col9\" class=\"data row1 col9\" >0.14</td>\n",
       "                        <td id=\"T_da27a060_2b53_11eb_83e2_acde48001122row1_col10\" class=\"data row1 col10\" >0.30</td>\n",
       "                        <td id=\"T_da27a060_2b53_11eb_83e2_acde48001122row1_col11\" class=\"data row1 col11\" >0.37</td>\n",
       "                        <td id=\"T_da27a060_2b53_11eb_83e2_acde48001122row1_col12\" class=\"data row1 col12\" >0.39</td>\n",
       "                        <td id=\"T_da27a060_2b53_11eb_83e2_acde48001122row1_col13\" class=\"data row1 col13\" >-0.01</td>\n",
       "            </tr>\n",
       "            <tr>\n",
       "                        <th id=\"T_da27a060_2b53_11eb_83e2_acde48001122level0_row2\" class=\"row_heading level0 row2\" >Holiday</th>\n",
       "                        <td id=\"T_da27a060_2b53_11eb_83e2_acde48001122row2_col0\" class=\"data row2 col0\" >0.06</td>\n",
       "                        <td id=\"T_da27a060_2b53_11eb_83e2_acde48001122row2_col1\" class=\"data row2 col1\" >0.00</td>\n",
       "                        <td id=\"T_da27a060_2b53_11eb_83e2_acde48001122row2_col2\" class=\"data row2 col2\" >1.00</td>\n",
       "                        <td id=\"T_da27a060_2b53_11eb_83e2_acde48001122row2_col3\" class=\"data row2 col3\" >-0.10</td>\n",
       "                        <td id=\"T_da27a060_2b53_11eb_83e2_acde48001122row2_col4\" class=\"data row2 col4\" >-0.25</td>\n",
       "                        <td id=\"T_da27a060_2b53_11eb_83e2_acde48001122row2_col5\" class=\"data row2 col5\" >-0.02</td>\n",
       "                        <td id=\"T_da27a060_2b53_11eb_83e2_acde48001122row2_col6\" class=\"data row2 col6\" >-0.03</td>\n",
       "                        <td id=\"T_da27a060_2b53_11eb_83e2_acde48001122row2_col7\" class=\"data row2 col7\" >-0.03</td>\n",
       "                        <td id=\"T_da27a060_2b53_11eb_83e2_acde48001122row2_col8\" class=\"data row2 col8\" >-0.01</td>\n",
       "                        <td id=\"T_da27a060_2b53_11eb_83e2_acde48001122row2_col9\" class=\"data row2 col9\" >0.00</td>\n",
       "                        <td id=\"T_da27a060_2b53_11eb_83e2_acde48001122row2_col10\" class=\"data row2 col10\" >0.03</td>\n",
       "                        <td id=\"T_da27a060_2b53_11eb_83e2_acde48001122row2_col11\" class=\"data row2 col11\" >-0.05</td>\n",
       "                        <td id=\"T_da27a060_2b53_11eb_83e2_acde48001122row2_col12\" class=\"data row2 col12\" >-0.03</td>\n",
       "                        <td id=\"T_da27a060_2b53_11eb_83e2_acde48001122row2_col13\" class=\"data row2 col13\" >0.02</td>\n",
       "            </tr>\n",
       "            <tr>\n",
       "                        <th id=\"T_da27a060_2b53_11eb_83e2_acde48001122level0_row3\" class=\"row_heading level0 row3\" >Day of the Week</th>\n",
       "                        <td id=\"T_da27a060_2b53_11eb_83e2_acde48001122row3_col0\" class=\"data row3 col0\" >-0.00</td>\n",
       "                        <td id=\"T_da27a060_2b53_11eb_83e2_acde48001122row3_col1\" class=\"data row3 col1\" >-0.00</td>\n",
       "                        <td id=\"T_da27a060_2b53_11eb_83e2_acde48001122row3_col2\" class=\"data row3 col2\" >-0.10</td>\n",
       "                        <td id=\"T_da27a060_2b53_11eb_83e2_acde48001122row3_col3\" class=\"data row3 col3\" >1.00</td>\n",
       "                        <td id=\"T_da27a060_2b53_11eb_83e2_acde48001122row3_col4\" class=\"data row3 col4\" >0.04</td>\n",
       "                        <td id=\"T_da27a060_2b53_11eb_83e2_acde48001122row3_col5\" class=\"data row3 col5\" >0.00</td>\n",
       "                        <td id=\"T_da27a060_2b53_11eb_83e2_acde48001122row3_col6\" class=\"data row3 col6\" >-0.00</td>\n",
       "                        <td id=\"T_da27a060_2b53_11eb_83e2_acde48001122row3_col7\" class=\"data row3 col7\" >-0.01</td>\n",
       "                        <td id=\"T_da27a060_2b53_11eb_83e2_acde48001122row3_col8\" class=\"data row3 col8\" >-0.04</td>\n",
       "                        <td id=\"T_da27a060_2b53_11eb_83e2_acde48001122row3_col9\" class=\"data row3 col9\" >0.01</td>\n",
       "                        <td id=\"T_da27a060_2b53_11eb_83e2_acde48001122row3_col10\" class=\"data row3 col10\" >0.03</td>\n",
       "                        <td id=\"T_da27a060_2b53_11eb_83e2_acde48001122row3_col11\" class=\"data row3 col11\" >0.02</td>\n",
       "                        <td id=\"T_da27a060_2b53_11eb_83e2_acde48001122row3_col12\" class=\"data row3 col12\" >0.03</td>\n",
       "                        <td id=\"T_da27a060_2b53_11eb_83e2_acde48001122row3_col13\" class=\"data row3 col13\" >0.01</td>\n",
       "            </tr>\n",
       "            <tr>\n",
       "                        <th id=\"T_da27a060_2b53_11eb_83e2_acde48001122level0_row4\" class=\"row_heading level0 row4\" >Working Day</th>\n",
       "                        <td id=\"T_da27a060_2b53_11eb_83e2_acde48001122row4_col0\" class=\"data row4 col0\" >-0.04</td>\n",
       "                        <td id=\"T_da27a060_2b53_11eb_83e2_acde48001122row4_col1\" class=\"data row4 col1\" >0.00</td>\n",
       "                        <td id=\"T_da27a060_2b53_11eb_83e2_acde48001122row4_col2\" class=\"data row4 col2\" >-0.25</td>\n",
       "                        <td id=\"T_da27a060_2b53_11eb_83e2_acde48001122row4_col3\" class=\"data row4 col3\" >0.04</td>\n",
       "                        <td id=\"T_da27a060_2b53_11eb_83e2_acde48001122row4_col4\" class=\"data row4 col4\" >1.00</td>\n",
       "                        <td id=\"T_da27a060_2b53_11eb_83e2_acde48001122row4_col5\" class=\"data row4 col5\" >0.04</td>\n",
       "                        <td id=\"T_da27a060_2b53_11eb_83e2_acde48001122row4_col6\" class=\"data row4 col6\" >0.06</td>\n",
       "                        <td id=\"T_da27a060_2b53_11eb_83e2_acde48001122row4_col7\" class=\"data row4 col7\" >0.05</td>\n",
       "                        <td id=\"T_da27a060_2b53_11eb_83e2_acde48001122row4_col8\" class=\"data row4 col8\" >0.02</td>\n",
       "                        <td id=\"T_da27a060_2b53_11eb_83e2_acde48001122row4_col9\" class=\"data row4 col9\" >-0.01</td>\n",
       "                        <td id=\"T_da27a060_2b53_11eb_83e2_acde48001122row4_col10\" class=\"data row4 col10\" >-0.30</td>\n",
       "                        <td id=\"T_da27a060_2b53_11eb_83e2_acde48001122row4_col11\" class=\"data row4 col11\" >0.13</td>\n",
       "                        <td id=\"T_da27a060_2b53_11eb_83e2_acde48001122row4_col12\" class=\"data row4 col12\" >0.03</td>\n",
       "                        <td id=\"T_da27a060_2b53_11eb_83e2_acde48001122row4_col13\" class=\"data row4 col13\" >-0.00</td>\n",
       "            </tr>\n",
       "            <tr>\n",
       "                        <th id=\"T_da27a060_2b53_11eb_83e2_acde48001122level0_row5\" class=\"row_heading level0 row5\" >Weather Type</th>\n",
       "                        <td id=\"T_da27a060_2b53_11eb_83e2_acde48001122row5_col0\" class=\"data row5 col0\" >0.04</td>\n",
       "                        <td id=\"T_da27a060_2b53_11eb_83e2_acde48001122row5_col1\" class=\"data row5 col1\" >-0.02</td>\n",
       "                        <td id=\"T_da27a060_2b53_11eb_83e2_acde48001122row5_col2\" class=\"data row5 col2\" >-0.02</td>\n",
       "                        <td id=\"T_da27a060_2b53_11eb_83e2_acde48001122row5_col3\" class=\"data row5 col3\" >0.00</td>\n",
       "                        <td id=\"T_da27a060_2b53_11eb_83e2_acde48001122row5_col4\" class=\"data row5 col4\" >0.04</td>\n",
       "                        <td id=\"T_da27a060_2b53_11eb_83e2_acde48001122row5_col5\" class=\"data row5 col5\" >1.00</td>\n",
       "                        <td id=\"T_da27a060_2b53_11eb_83e2_acde48001122row5_col6\" class=\"data row5 col6\" >-0.10</td>\n",
       "                        <td id=\"T_da27a060_2b53_11eb_83e2_acde48001122row5_col7\" class=\"data row5 col7\" >-0.11</td>\n",
       "                        <td id=\"T_da27a060_2b53_11eb_83e2_acde48001122row5_col8\" class=\"data row5 col8\" >0.42</td>\n",
       "                        <td id=\"T_da27a060_2b53_11eb_83e2_acde48001122row5_col9\" class=\"data row5 col9\" >0.03</td>\n",
       "                        <td id=\"T_da27a060_2b53_11eb_83e2_acde48001122row5_col10\" class=\"data row5 col10\" >-0.15</td>\n",
       "                        <td id=\"T_da27a060_2b53_11eb_83e2_acde48001122row5_col11\" class=\"data row5 col11\" >-0.12</td>\n",
       "                        <td id=\"T_da27a060_2b53_11eb_83e2_acde48001122row5_col12\" class=\"data row5 col12\" >-0.14</td>\n",
       "                        <td id=\"T_da27a060_2b53_11eb_83e2_acde48001122row5_col13\" class=\"data row5 col13\" >0.01</td>\n",
       "            </tr>\n",
       "            <tr>\n",
       "                        <th id=\"T_da27a060_2b53_11eb_83e2_acde48001122level0_row6\" class=\"row_heading level0 row6\" >Temperature F</th>\n",
       "                        <td id=\"T_da27a060_2b53_11eb_83e2_acde48001122row6_col0\" class=\"data row6 col0\" >-0.47</td>\n",
       "                        <td id=\"T_da27a060_2b53_11eb_83e2_acde48001122row6_col1\" class=\"data row6 col1\" >0.14</td>\n",
       "                        <td id=\"T_da27a060_2b53_11eb_83e2_acde48001122row6_col2\" class=\"data row6 col2\" >-0.03</td>\n",
       "                        <td id=\"T_da27a060_2b53_11eb_83e2_acde48001122row6_col3\" class=\"data row6 col3\" >-0.00</td>\n",
       "                        <td id=\"T_da27a060_2b53_11eb_83e2_acde48001122row6_col4\" class=\"data row6 col4\" >0.06</td>\n",
       "                        <td id=\"T_da27a060_2b53_11eb_83e2_acde48001122row6_col5\" class=\"data row6 col5\" >-0.10</td>\n",
       "                        <td id=\"T_da27a060_2b53_11eb_83e2_acde48001122row6_col6\" class=\"data row6 col6\" >1.00</td>\n",
       "                        <td id=\"T_da27a060_2b53_11eb_83e2_acde48001122row6_col7\" class=\"data row6 col7\" >0.99</td>\n",
       "                        <td id=\"T_da27a060_2b53_11eb_83e2_acde48001122row6_col8\" class=\"data row6 col8\" >-0.07</td>\n",
       "                        <td id=\"T_da27a060_2b53_11eb_83e2_acde48001122row6_col9\" class=\"data row6 col9\" >-0.02</td>\n",
       "                        <td id=\"T_da27a060_2b53_11eb_83e2_acde48001122row6_col10\" class=\"data row6 col10\" >0.46</td>\n",
       "                        <td id=\"T_da27a060_2b53_11eb_83e2_acde48001122row6_col11\" class=\"data row6 col11\" >0.34</td>\n",
       "                        <td id=\"T_da27a060_2b53_11eb_83e2_acde48001122row6_col12\" class=\"data row6 col12\" >0.40</td>\n",
       "                        <td id=\"T_da27a060_2b53_11eb_83e2_acde48001122row6_col13\" class=\"data row6 col13\" >0.20</td>\n",
       "            </tr>\n",
       "            <tr>\n",
       "                        <th id=\"T_da27a060_2b53_11eb_83e2_acde48001122level0_row7\" class=\"row_heading level0 row7\" >Temperature Feels F</th>\n",
       "                        <td id=\"T_da27a060_2b53_11eb_83e2_acde48001122row7_col0\" class=\"data row7 col0\" >-0.47</td>\n",
       "                        <td id=\"T_da27a060_2b53_11eb_83e2_acde48001122row7_col1\" class=\"data row7 col1\" >0.13</td>\n",
       "                        <td id=\"T_da27a060_2b53_11eb_83e2_acde48001122row7_col2\" class=\"data row7 col2\" >-0.03</td>\n",
       "                        <td id=\"T_da27a060_2b53_11eb_83e2_acde48001122row7_col3\" class=\"data row7 col3\" >-0.01</td>\n",
       "                        <td id=\"T_da27a060_2b53_11eb_83e2_acde48001122row7_col4\" class=\"data row7 col4\" >0.05</td>\n",
       "                        <td id=\"T_da27a060_2b53_11eb_83e2_acde48001122row7_col5\" class=\"data row7 col5\" >-0.11</td>\n",
       "                        <td id=\"T_da27a060_2b53_11eb_83e2_acde48001122row7_col6\" class=\"data row7 col6\" >0.99</td>\n",
       "                        <td id=\"T_da27a060_2b53_11eb_83e2_acde48001122row7_col7\" class=\"data row7 col7\" >1.00</td>\n",
       "                        <td id=\"T_da27a060_2b53_11eb_83e2_acde48001122row7_col8\" class=\"data row7 col8\" >-0.05</td>\n",
       "                        <td id=\"T_da27a060_2b53_11eb_83e2_acde48001122row7_col9\" class=\"data row7 col9\" >-0.06</td>\n",
       "                        <td id=\"T_da27a060_2b53_11eb_83e2_acde48001122row7_col10\" class=\"data row7 col10\" >0.45</td>\n",
       "                        <td id=\"T_da27a060_2b53_11eb_83e2_acde48001122row7_col11\" class=\"data row7 col11\" >0.33</td>\n",
       "                        <td id=\"T_da27a060_2b53_11eb_83e2_acde48001122row7_col12\" class=\"data row7 col12\" >0.40</td>\n",
       "                        <td id=\"T_da27a060_2b53_11eb_83e2_acde48001122row7_col13\" class=\"data row7 col13\" >0.21</td>\n",
       "            </tr>\n",
       "            <tr>\n",
       "                        <th id=\"T_da27a060_2b53_11eb_83e2_acde48001122level0_row8\" class=\"row_heading level0 row8\" >Humidity</th>\n",
       "                        <td id=\"T_da27a060_2b53_11eb_83e2_acde48001122row8_col0\" class=\"data row8 col0\" >0.01</td>\n",
       "                        <td id=\"T_da27a060_2b53_11eb_83e2_acde48001122row8_col1\" class=\"data row8 col1\" >-0.28</td>\n",
       "                        <td id=\"T_da27a060_2b53_11eb_83e2_acde48001122row8_col2\" class=\"data row8 col2\" >-0.01</td>\n",
       "                        <td id=\"T_da27a060_2b53_11eb_83e2_acde48001122row8_col3\" class=\"data row8 col3\" >-0.04</td>\n",
       "                        <td id=\"T_da27a060_2b53_11eb_83e2_acde48001122row8_col4\" class=\"data row8 col4\" >0.02</td>\n",
       "                        <td id=\"T_da27a060_2b53_11eb_83e2_acde48001122row8_col5\" class=\"data row8 col5\" >0.42</td>\n",
       "                        <td id=\"T_da27a060_2b53_11eb_83e2_acde48001122row8_col6\" class=\"data row8 col6\" >-0.07</td>\n",
       "                        <td id=\"T_da27a060_2b53_11eb_83e2_acde48001122row8_col7\" class=\"data row8 col7\" >-0.05</td>\n",
       "                        <td id=\"T_da27a060_2b53_11eb_83e2_acde48001122row8_col8\" class=\"data row8 col8\" >1.00</td>\n",
       "                        <td id=\"T_da27a060_2b53_11eb_83e2_acde48001122row8_col9\" class=\"data row8 col9\" >-0.29</td>\n",
       "                        <td id=\"T_da27a060_2b53_11eb_83e2_acde48001122row8_col10\" class=\"data row8 col10\" >-0.35</td>\n",
       "                        <td id=\"T_da27a060_2b53_11eb_83e2_acde48001122row8_col11\" class=\"data row8 col11\" >-0.27</td>\n",
       "                        <td id=\"T_da27a060_2b53_11eb_83e2_acde48001122row8_col12\" class=\"data row8 col12\" >-0.32</td>\n",
       "                        <td id=\"T_da27a060_2b53_11eb_83e2_acde48001122row8_col13\" class=\"data row8 col13\" >0.16</td>\n",
       "            </tr>\n",
       "            <tr>\n",
       "                        <th id=\"T_da27a060_2b53_11eb_83e2_acde48001122level0_row9\" class=\"row_heading level0 row9\" >Wind Speed</th>\n",
       "                        <td id=\"T_da27a060_2b53_11eb_83e2_acde48001122row9_col0\" class=\"data row9 col0\" >-0.04</td>\n",
       "                        <td id=\"T_da27a060_2b53_11eb_83e2_acde48001122row9_col1\" class=\"data row9 col1\" >0.14</td>\n",
       "                        <td id=\"T_da27a060_2b53_11eb_83e2_acde48001122row9_col2\" class=\"data row9 col2\" >0.00</td>\n",
       "                        <td id=\"T_da27a060_2b53_11eb_83e2_acde48001122row9_col3\" class=\"data row9 col3\" >0.01</td>\n",
       "                        <td id=\"T_da27a060_2b53_11eb_83e2_acde48001122row9_col4\" class=\"data row9 col4\" >-0.01</td>\n",
       "                        <td id=\"T_da27a060_2b53_11eb_83e2_acde48001122row9_col5\" class=\"data row9 col5\" >0.03</td>\n",
       "                        <td id=\"T_da27a060_2b53_11eb_83e2_acde48001122row9_col6\" class=\"data row9 col6\" >-0.02</td>\n",
       "                        <td id=\"T_da27a060_2b53_11eb_83e2_acde48001122row9_col7\" class=\"data row9 col7\" >-0.06</td>\n",
       "                        <td id=\"T_da27a060_2b53_11eb_83e2_acde48001122row9_col8\" class=\"data row9 col8\" >-0.29</td>\n",
       "                        <td id=\"T_da27a060_2b53_11eb_83e2_acde48001122row9_col9\" class=\"data row9 col9\" >1.00</td>\n",
       "                        <td id=\"T_da27a060_2b53_11eb_83e2_acde48001122row9_col10\" class=\"data row9 col10\" >0.09</td>\n",
       "                        <td id=\"T_da27a060_2b53_11eb_83e2_acde48001122row9_col11\" class=\"data row9 col11\" >0.08</td>\n",
       "                        <td id=\"T_da27a060_2b53_11eb_83e2_acde48001122row9_col12\" class=\"data row9 col12\" >0.09</td>\n",
       "                        <td id=\"T_da27a060_2b53_11eb_83e2_acde48001122row9_col13\" class=\"data row9 col13\" >-0.14</td>\n",
       "            </tr>\n",
       "            <tr>\n",
       "                        <th id=\"T_da27a060_2b53_11eb_83e2_acde48001122level0_row10\" class=\"row_heading level0 row10\" >Casual Users</th>\n",
       "                        <td id=\"T_da27a060_2b53_11eb_83e2_acde48001122row10_col0\" class=\"data row10 col0\" >-0.23</td>\n",
       "                        <td id=\"T_da27a060_2b53_11eb_83e2_acde48001122row10_col1\" class=\"data row10 col1\" >0.30</td>\n",
       "                        <td id=\"T_da27a060_2b53_11eb_83e2_acde48001122row10_col2\" class=\"data row10 col2\" >0.03</td>\n",
       "                        <td id=\"T_da27a060_2b53_11eb_83e2_acde48001122row10_col3\" class=\"data row10 col3\" >0.03</td>\n",
       "                        <td id=\"T_da27a060_2b53_11eb_83e2_acde48001122row10_col4\" class=\"data row10 col4\" >-0.30</td>\n",
       "                        <td id=\"T_da27a060_2b53_11eb_83e2_acde48001122row10_col5\" class=\"data row10 col5\" >-0.15</td>\n",
       "                        <td id=\"T_da27a060_2b53_11eb_83e2_acde48001122row10_col6\" class=\"data row10 col6\" >0.46</td>\n",
       "                        <td id=\"T_da27a060_2b53_11eb_83e2_acde48001122row10_col7\" class=\"data row10 col7\" >0.45</td>\n",
       "                        <td id=\"T_da27a060_2b53_11eb_83e2_acde48001122row10_col8\" class=\"data row10 col8\" >-0.35</td>\n",
       "                        <td id=\"T_da27a060_2b53_11eb_83e2_acde48001122row10_col9\" class=\"data row10 col9\" >0.09</td>\n",
       "                        <td id=\"T_da27a060_2b53_11eb_83e2_acde48001122row10_col10\" class=\"data row10 col10\" >1.00</td>\n",
       "                        <td id=\"T_da27a060_2b53_11eb_83e2_acde48001122row10_col11\" class=\"data row10 col11\" >0.51</td>\n",
       "                        <td id=\"T_da27a060_2b53_11eb_83e2_acde48001122row10_col12\" class=\"data row10 col12\" >0.69</td>\n",
       "                        <td id=\"T_da27a060_2b53_11eb_83e2_acde48001122row10_col13\" class=\"data row10 col13\" >0.07</td>\n",
       "            </tr>\n",
       "            <tr>\n",
       "                        <th id=\"T_da27a060_2b53_11eb_83e2_acde48001122level0_row11\" class=\"row_heading level0 row11\" >Registered Users</th>\n",
       "                        <td id=\"T_da27a060_2b53_11eb_83e2_acde48001122row11_col0\" class=\"data row11 col0\" >-0.10</td>\n",
       "                        <td id=\"T_da27a060_2b53_11eb_83e2_acde48001122row11_col1\" class=\"data row11 col1\" >0.37</td>\n",
       "                        <td id=\"T_da27a060_2b53_11eb_83e2_acde48001122row11_col2\" class=\"data row11 col2\" >-0.05</td>\n",
       "                        <td id=\"T_da27a060_2b53_11eb_83e2_acde48001122row11_col3\" class=\"data row11 col3\" >0.02</td>\n",
       "                        <td id=\"T_da27a060_2b53_11eb_83e2_acde48001122row11_col4\" class=\"data row11 col4\" >0.13</td>\n",
       "                        <td id=\"T_da27a060_2b53_11eb_83e2_acde48001122row11_col5\" class=\"data row11 col5\" >-0.12</td>\n",
       "                        <td id=\"T_da27a060_2b53_11eb_83e2_acde48001122row11_col6\" class=\"data row11 col6\" >0.34</td>\n",
       "                        <td id=\"T_da27a060_2b53_11eb_83e2_acde48001122row11_col7\" class=\"data row11 col7\" >0.33</td>\n",
       "                        <td id=\"T_da27a060_2b53_11eb_83e2_acde48001122row11_col8\" class=\"data row11 col8\" >-0.27</td>\n",
       "                        <td id=\"T_da27a060_2b53_11eb_83e2_acde48001122row11_col9\" class=\"data row11 col9\" >0.08</td>\n",
       "                        <td id=\"T_da27a060_2b53_11eb_83e2_acde48001122row11_col10\" class=\"data row11 col10\" >0.51</td>\n",
       "                        <td id=\"T_da27a060_2b53_11eb_83e2_acde48001122row11_col11\" class=\"data row11 col11\" >1.00</td>\n",
       "                        <td id=\"T_da27a060_2b53_11eb_83e2_acde48001122row11_col12\" class=\"data row11 col12\" >0.97</td>\n",
       "                        <td id=\"T_da27a060_2b53_11eb_83e2_acde48001122row11_col13\" class=\"data row11 col13\" >0.12</td>\n",
       "            </tr>\n",
       "            <tr>\n",
       "                        <th id=\"T_da27a060_2b53_11eb_83e2_acde48001122level0_row12\" class=\"row_heading level0 row12\" >Total Users</th>\n",
       "                        <td id=\"T_da27a060_2b53_11eb_83e2_acde48001122row12_col0\" class=\"data row12 col0\" >-0.14</td>\n",
       "                        <td id=\"T_da27a060_2b53_11eb_83e2_acde48001122row12_col1\" class=\"data row12 col1\" >0.39</td>\n",
       "                        <td id=\"T_da27a060_2b53_11eb_83e2_acde48001122row12_col2\" class=\"data row12 col2\" >-0.03</td>\n",
       "                        <td id=\"T_da27a060_2b53_11eb_83e2_acde48001122row12_col3\" class=\"data row12 col3\" >0.03</td>\n",
       "                        <td id=\"T_da27a060_2b53_11eb_83e2_acde48001122row12_col4\" class=\"data row12 col4\" >0.03</td>\n",
       "                        <td id=\"T_da27a060_2b53_11eb_83e2_acde48001122row12_col5\" class=\"data row12 col5\" >-0.14</td>\n",
       "                        <td id=\"T_da27a060_2b53_11eb_83e2_acde48001122row12_col6\" class=\"data row12 col6\" >0.40</td>\n",
       "                        <td id=\"T_da27a060_2b53_11eb_83e2_acde48001122row12_col7\" class=\"data row12 col7\" >0.40</td>\n",
       "                        <td id=\"T_da27a060_2b53_11eb_83e2_acde48001122row12_col8\" class=\"data row12 col8\" >-0.32</td>\n",
       "                        <td id=\"T_da27a060_2b53_11eb_83e2_acde48001122row12_col9\" class=\"data row12 col9\" >0.09</td>\n",
       "                        <td id=\"T_da27a060_2b53_11eb_83e2_acde48001122row12_col10\" class=\"data row12 col10\" >0.69</td>\n",
       "                        <td id=\"T_da27a060_2b53_11eb_83e2_acde48001122row12_col11\" class=\"data row12 col11\" >0.97</td>\n",
       "                        <td id=\"T_da27a060_2b53_11eb_83e2_acde48001122row12_col12\" class=\"data row12 col12\" >1.00</td>\n",
       "                        <td id=\"T_da27a060_2b53_11eb_83e2_acde48001122row12_col13\" class=\"data row12 col13\" >0.12</td>\n",
       "            </tr>\n",
       "            <tr>\n",
       "                        <th id=\"T_da27a060_2b53_11eb_83e2_acde48001122level0_row13\" class=\"row_heading level0 row13\" >Month</th>\n",
       "                        <td id=\"T_da27a060_2b53_11eb_83e2_acde48001122row13_col0\" class=\"data row13 col0\" >0.21</td>\n",
       "                        <td id=\"T_da27a060_2b53_11eb_83e2_acde48001122row13_col1\" class=\"data row13 col1\" >-0.01</td>\n",
       "                        <td id=\"T_da27a060_2b53_11eb_83e2_acde48001122row13_col2\" class=\"data row13 col2\" >0.02</td>\n",
       "                        <td id=\"T_da27a060_2b53_11eb_83e2_acde48001122row13_col3\" class=\"data row13 col3\" >0.01</td>\n",
       "                        <td id=\"T_da27a060_2b53_11eb_83e2_acde48001122row13_col4\" class=\"data row13 col4\" >-0.00</td>\n",
       "                        <td id=\"T_da27a060_2b53_11eb_83e2_acde48001122row13_col5\" class=\"data row13 col5\" >0.01</td>\n",
       "                        <td id=\"T_da27a060_2b53_11eb_83e2_acde48001122row13_col6\" class=\"data row13 col6\" >0.20</td>\n",
       "                        <td id=\"T_da27a060_2b53_11eb_83e2_acde48001122row13_col7\" class=\"data row13 col7\" >0.21</td>\n",
       "                        <td id=\"T_da27a060_2b53_11eb_83e2_acde48001122row13_col8\" class=\"data row13 col8\" >0.16</td>\n",
       "                        <td id=\"T_da27a060_2b53_11eb_83e2_acde48001122row13_col9\" class=\"data row13 col9\" >-0.14</td>\n",
       "                        <td id=\"T_da27a060_2b53_11eb_83e2_acde48001122row13_col10\" class=\"data row13 col10\" >0.07</td>\n",
       "                        <td id=\"T_da27a060_2b53_11eb_83e2_acde48001122row13_col11\" class=\"data row13 col11\" >0.12</td>\n",
       "                        <td id=\"T_da27a060_2b53_11eb_83e2_acde48001122row13_col12\" class=\"data row13 col12\" >0.12</td>\n",
       "                        <td id=\"T_da27a060_2b53_11eb_83e2_acde48001122row13_col13\" class=\"data row13 col13\" >1.00</td>\n",
       "            </tr>\n",
       "    </tbody></table>"
      ],
      "text/plain": [
       "<pandas.io.formats.style.Styler at 0x7fa88a4eebd0>"
      ]
     },
     "execution_count": 27,
     "metadata": {},
     "output_type": "execute_result"
    }
   ],
   "source": [
    "corr = df.corr()\n",
    "corr.style.background_gradient(cmap='twilight_shifted').set_precision(2)"
   ]
  },
  {
   "cell_type": "markdown",
   "metadata": {},
   "source": [
    "We see some expected correlations, mainly actual temperature versus \"feels like\" temperature as the latter is a modified version of the former accounting for Humidity. We also see various environmental factors loosely correlated with Season. Finally, in terms of our ridership, we see a positive relationship between temperature and riders as well as hours and riders. \n",
    "\n",
    "Our subsets of riders should show strong multicollinearity because Total Users = Casual Users + Registered Users."
   ]
  },
  {
   "cell_type": "code",
   "execution_count": null,
   "metadata": {},
   "outputs": [],
   "source": []
  }
 ],
 "metadata": {
  "kernelspec": {
   "display_name": "Python 3",
   "language": "python",
   "name": "python3"
  },
  "language_info": {
   "codemirror_mode": {
    "name": "ipython",
    "version": 3
   },
   "file_extension": ".py",
   "mimetype": "text/x-python",
   "name": "python",
   "nbconvert_exporter": "python",
   "pygments_lexer": "ipython3",
   "version": "3.7.6"
  }
 },
 "nbformat": 4,
 "nbformat_minor": 4
}
