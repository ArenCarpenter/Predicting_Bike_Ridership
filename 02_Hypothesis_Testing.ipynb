{
 "cells": [
  {
   "cell_type": "markdown",
   "metadata": {},
   "source": [
    "# Hypothesis Testing"
   ]
  },
  {
   "cell_type": "markdown",
   "metadata": {},
   "source": [
    "## Getting Started\n",
    "### Libraries to Import"
   ]
  },
  {
   "cell_type": "code",
   "execution_count": 1,
   "metadata": {},
   "outputs": [],
   "source": [
    "import pandas as pd\n",
    "import numpy as np\n",
    "import matplotlib.pyplot as plt\n",
    "import seaborn as sns\n",
    "\n",
    "import scipy.stats"
   ]
  },
  {
   "cell_type": "markdown",
   "metadata": {},
   "source": [
    "### Read in Data\n",
    "\n",
    "This is a fairly common dataset, here sourced from [data.world](https://data.world/data-society/capital-bikeshare-2011-2012), but also available from the UCI database."
   ]
  },
  {
   "cell_type": "code",
   "execution_count": 2,
   "metadata": {},
   "outputs": [],
   "source": [
    "df = pd.read_csv('Data/bike_data.csv')"
   ]
  },
  {
   "cell_type": "markdown",
   "metadata": {},
   "source": [
    "## Data Cleaning"
   ]
  },
  {
   "cell_type": "markdown",
   "metadata": {},
   "source": [
    "Our date column was an object, so transform to a datetime with pandas and create a new column for Month."
   ]
  },
  {
   "cell_type": "code",
   "execution_count": 3,
   "metadata": {},
   "outputs": [],
   "source": [
    "df.Date = pd.to_datetime(arg=df.Date) #dtype('<M8[ns]')\n",
    "df['Month'] = df['Date'].dt.month"
   ]
  },
  {
   "cell_type": "code",
   "execution_count": 4,
   "metadata": {},
   "outputs": [
    {
     "data": {
      "text/html": [
       "<div>\n",
       "<style scoped>\n",
       "    .dataframe tbody tr th:only-of-type {\n",
       "        vertical-align: middle;\n",
       "    }\n",
       "\n",
       "    .dataframe tbody tr th {\n",
       "        vertical-align: top;\n",
       "    }\n",
       "\n",
       "    .dataframe thead th {\n",
       "        text-align: right;\n",
       "    }\n",
       "</style>\n",
       "<table border=\"1\" class=\"dataframe\">\n",
       "  <thead>\n",
       "    <tr style=\"text-align: right;\">\n",
       "      <th></th>\n",
       "      <th>Date</th>\n",
       "      <th>Season</th>\n",
       "      <th>Hour</th>\n",
       "      <th>Holiday</th>\n",
       "      <th>Day of the Week</th>\n",
       "      <th>Working Day</th>\n",
       "      <th>Weather Type</th>\n",
       "      <th>Temperature F</th>\n",
       "      <th>Temperature Feels F</th>\n",
       "      <th>Humidity</th>\n",
       "      <th>Wind Speed</th>\n",
       "      <th>Casual Users</th>\n",
       "      <th>Registered Users</th>\n",
       "      <th>Total Users</th>\n",
       "      <th>Month</th>\n",
       "    </tr>\n",
       "  </thead>\n",
       "  <tbody>\n",
       "    <tr>\n",
       "      <th>10529</th>\n",
       "      <td>2012-03-19</td>\n",
       "      <td>1</td>\n",
       "      <td>20</td>\n",
       "      <td>0</td>\n",
       "      <td>1</td>\n",
       "      <td>1</td>\n",
       "      <td>1</td>\n",
       "      <td>67.7</td>\n",
       "      <td>75.2</td>\n",
       "      <td>64</td>\n",
       "      <td>15</td>\n",
       "      <td>34</td>\n",
       "      <td>296</td>\n",
       "      <td>330</td>\n",
       "      <td>3</td>\n",
       "    </tr>\n",
       "    <tr>\n",
       "      <th>6865</th>\n",
       "      <td>2011-10-18</td>\n",
       "      <td>3</td>\n",
       "      <td>15</td>\n",
       "      <td>0</td>\n",
       "      <td>2</td>\n",
       "      <td>1</td>\n",
       "      <td>1</td>\n",
       "      <td>69.4</td>\n",
       "      <td>77.0</td>\n",
       "      <td>50</td>\n",
       "      <td>13</td>\n",
       "      <td>66</td>\n",
       "      <td>139</td>\n",
       "      <td>205</td>\n",
       "      <td>10</td>\n",
       "    </tr>\n",
       "    <tr>\n",
       "      <th>11404</th>\n",
       "      <td>2012-04-25</td>\n",
       "      <td>1</td>\n",
       "      <td>9</td>\n",
       "      <td>0</td>\n",
       "      <td>3</td>\n",
       "      <td>1</td>\n",
       "      <td>1</td>\n",
       "      <td>52.1</td>\n",
       "      <td>53.6</td>\n",
       "      <td>54</td>\n",
       "      <td>0</td>\n",
       "      <td>33</td>\n",
       "      <td>288</td>\n",
       "      <td>321</td>\n",
       "      <td>4</td>\n",
       "    </tr>\n",
       "    <tr>\n",
       "      <th>4897</th>\n",
       "      <td>2011-07-27</td>\n",
       "      <td>2</td>\n",
       "      <td>23</td>\n",
       "      <td>0</td>\n",
       "      <td>3</td>\n",
       "      <td>1</td>\n",
       "      <td>1</td>\n",
       "      <td>79.8</td>\n",
       "      <td>82.4</td>\n",
       "      <td>45</td>\n",
       "      <td>6</td>\n",
       "      <td>16</td>\n",
       "      <td>93</td>\n",
       "      <td>109</td>\n",
       "      <td>7</td>\n",
       "    </tr>\n",
       "    <tr>\n",
       "      <th>4067</th>\n",
       "      <td>2011-06-23</td>\n",
       "      <td>2</td>\n",
       "      <td>9</td>\n",
       "      <td>0</td>\n",
       "      <td>4</td>\n",
       "      <td>1</td>\n",
       "      <td>2</td>\n",
       "      <td>79.8</td>\n",
       "      <td>86.0</td>\n",
       "      <td>70</td>\n",
       "      <td>9</td>\n",
       "      <td>33</td>\n",
       "      <td>194</td>\n",
       "      <td>227</td>\n",
       "      <td>6</td>\n",
       "    </tr>\n",
       "  </tbody>\n",
       "</table>\n",
       "</div>"
      ],
      "text/plain": [
       "            Date  Season  Hour  Holiday  Day of the Week  Working Day  \\\n",
       "10529 2012-03-19       1    20        0                1            1   \n",
       "6865  2011-10-18       3    15        0                2            1   \n",
       "11404 2012-04-25       1     9        0                3            1   \n",
       "4897  2011-07-27       2    23        0                3            1   \n",
       "4067  2011-06-23       2     9        0                4            1   \n",
       "\n",
       "       Weather Type  Temperature F  Temperature Feels F  Humidity  Wind Speed  \\\n",
       "10529             1           67.7                 75.2        64          15   \n",
       "6865              1           69.4                 77.0        50          13   \n",
       "11404             1           52.1                 53.6        54           0   \n",
       "4897              1           79.8                 82.4        45           6   \n",
       "4067              2           79.8                 86.0        70           9   \n",
       "\n",
       "       Casual Users  Registered Users  Total Users  Month  \n",
       "10529            34               296          330      3  \n",
       "6865             66               139          205     10  \n",
       "11404            33               288          321      4  \n",
       "4897             16                93          109      7  \n",
       "4067             33               194          227      6  "
      ]
     },
     "execution_count": 4,
     "metadata": {},
     "output_type": "execute_result"
    }
   ],
   "source": [
    "df.sample(5)"
   ]
  },
  {
   "cell_type": "markdown",
   "metadata": {},
   "source": [
    "## Hypothesis Testing"
   ]
  },
  {
   "cell_type": "markdown",
   "metadata": {},
   "source": [
    "### Do users ride more during comfortable temperatures?"
   ]
  },
  {
   "cell_type": "markdown",
   "metadata": {},
   "source": [
    "Thanks to Matt Wilkins for his bike riding expertise. "
   ]
  },
  {
   "cell_type": "code",
   "execution_count": 5,
   "metadata": {},
   "outputs": [],
   "source": [
    "df['Comfortable Temp?'] = np.where((df['Temperature Feels F'] > 50) & (df['Temperature Feels F'] < 85), 1, 0)"
   ]
  },
  {
   "cell_type": "markdown",
   "metadata": {},
   "source": [
    "#### Let's Start with some Visualization"
   ]
  },
  {
   "cell_type": "code",
   "execution_count": 6,
   "metadata": {},
   "outputs": [
    {
     "data": {
      "image/png": "[encoded data removed]",
      "text/plain": [
       "<Figure size 1152x360 with 2 Axes>"
      ]
     },
     "metadata": {
      "needs_background": "light"
     },
     "output_type": "display_data"
    }
   ],
   "source": [
    "fig, ax = plt.subplots(1,2)\n",
    "sns.barplot(data=df, x='Comfortable Temp?', y='Registered Users', ax=ax[0])\n",
    "sns.barplot(data=df, x='Comfortable Temp?', y='Casual Users', ax=ax[1])\n",
    "ax[0].set(ylim=(0, 180))\n",
    "ax[1].set(ylim=(0, 180))\n",
    "fig.set_figheight(5)\n",
    "fig.set_figwidth(16)\n",
    "plt.show()"
   ]
  },
  {
   "cell_type": "code",
   "execution_count": 7,
   "metadata": {},
   "outputs": [],
   "source": [
    "comfy_registered = df[df['Comfortable Temp?'] == 1]['Registered Users']\n",
    "noncomfy_registered = df[df['Comfortable Temp?'] == 0]['Registered Users']"
   ]
  },
  {
   "cell_type": "code",
   "execution_count": 8,
   "metadata": {},
   "outputs": [
    {
     "data": {
      "text/plain": [
       "Ttest_indResult(statistic=19.141783708515234, pvalue=7.6926513295976845e-81)"
      ]
     },
     "execution_count": 8,
     "metadata": {},
     "output_type": "execute_result"
    }
   ],
   "source": [
    "scipy.stats.ttest_ind(comfy_registered, noncomfy_registered)"
   ]
  },
  {
   "cell_type": "markdown",
   "metadata": {},
   "source": [
    "With a p-value significantly lower than 0.05, we can conclude that these means are statistically different and that temperature does affect the level of registered ridership."
   ]
  },
  {
   "cell_type": "code",
   "execution_count": 9,
   "metadata": {},
   "outputs": [],
   "source": [
    "comfy_casual = df[df['Comfortable Temp?'] == 1]['Casual Users']\n",
    "noncomfy_casual = df[df['Comfortable Temp?'] == 0]['Casual Users']"
   ]
  },
  {
   "cell_type": "code",
   "execution_count": 10,
   "metadata": {},
   "outputs": [
    {
     "data": {
      "text/plain": [
       "Ttest_indResult(statistic=23.30627567580721, pvalue=2.4872749610746814e-118)"
      ]
     },
     "execution_count": 10,
     "metadata": {},
     "output_type": "execute_result"
    }
   ],
   "source": [
    "scipy.stats.ttest_ind(comfy_casual, noncomfy_casual)"
   ]
  },
  {
   "cell_type": "markdown",
   "metadata": {},
   "source": [
    "With a p-value significantly lower than 0.05, we can conclude that these means are statistically different and that temperature does affect the level of casual ridership."
   ]
  },
  {
   "cell_type": "markdown",
   "metadata": {},
   "source": [
    "### Does Weather Type affect ridership of registered users?\n",
    "\n",
    "How much does a bad weather day affect that day's rides/revenue?"
   ]
  },
  {
   "cell_type": "markdown",
   "metadata": {},
   "source": [
    "### Do more riders ride in the morning or evening? \n",
    "\n",
    "Do people bike into work but not out, or vice versa, what are the pain points driving this behavior?"
   ]
  },
  {
   "cell_type": "markdown",
   "metadata": {},
   "source": [
    "### Are there more riders in 2011 or 2012?\n",
    "\n",
    "Is our market share growing?"
   ]
  },
  {
   "cell_type": "markdown",
   "metadata": {},
   "source": [
    "### Are there differences in monthly ridership? Between registered and casual?"
   ]
  },
  {
   "cell_type": "markdown",
   "metadata": {},
   "source": [
    "### Percentage of rides that are rush hour commutes? \n",
    "\n",
    "Idea is to say, here is when you should ride for less congestion."
   ]
  },
  {
   "cell_type": "markdown",
   "metadata": {},
   "source": [
    "Looking at commutes 7-8am and 5-6pm."
   ]
  },
  {
   "cell_type": "code",
   "execution_count": 53,
   "metadata": {},
   "outputs": [],
   "source": [
    "df_7a = df[df.Hour == 7]\n",
    "df_8a = df[df.Hour == 8]\n",
    "df_5p = df[df.Hour == 17]\n",
    "df_6p = df[df.Hour == 18]"
   ]
  },
  {
   "cell_type": "code",
   "execution_count": 54,
   "metadata": {},
   "outputs": [],
   "source": [
    "df_commute = pd.concat([df_7a, df_8a, df_5p, df_6p])"
   ]
  },
  {
   "cell_type": "code",
   "execution_count": 55,
   "metadata": {},
   "outputs": [],
   "source": [
    "commute_riders = df_commute['Total Users'].sum()"
   ]
  },
  {
   "cell_type": "code",
   "execution_count": 56,
   "metadata": {},
   "outputs": [],
   "source": [
    "non_commute_riders = df['Total Users'].sum() - commute_riders"
   ]
  },
  {
   "cell_type": "code",
   "execution_count": 57,
   "metadata": {},
   "outputs": [],
   "source": [
    "x = ['Commuter Rides', 'Non-Commuter Rides']\n",
    "y = [commute_riders, non_commute_riders]"
   ]
  },
  {
   "cell_type": "code",
   "execution_count": 58,
   "metadata": {
    "scrolled": false
   },
   "outputs": [
    {
     "data": {
      "image/png": "[encoded data removed]",
      "text/plain": [
       "<Figure size 576x576 with 1 Axes>"
      ]
     },
     "metadata": {
      "needs_background": "light"
     },
     "output_type": "display_data"
    }
   ],
   "source": [
    "plt.figure(figsize=(8,8))\n",
    "plt.bar(x, y, color ='darkturquoise')\n",
    "plt.title('Commuter Rides  (7-8am and 5-6pm)')\n",
    "plt.show()"
   ]
  },
  {
   "cell_type": "markdown",
   "metadata": {},
   "source": [
    "If we open up the commuter hours by an hour on each side, 7-9am and 5-7pm."
   ]
  },
  {
   "cell_type": "code",
   "execution_count": 59,
   "metadata": {},
   "outputs": [],
   "source": [
    "df_7a = df[df.Hour == 7]\n",
    "df_8a = df[df.Hour == 8]\n",
    "df_9a = df[df.Hour == 9]\n",
    "df_5p = df[df.Hour == 17]\n",
    "df_6p = df[df.Hour == 18]\n",
    "df_7p = df[df.Hour == 19]"
   ]
  },
  {
   "cell_type": "code",
   "execution_count": 60,
   "metadata": {},
   "outputs": [],
   "source": [
    "df_commute = pd.concat([df_7a, df_8a, df_9a, df_5p, df_6p, df_7p])"
   ]
  },
  {
   "cell_type": "code",
   "execution_count": 61,
   "metadata": {},
   "outputs": [],
   "source": [
    "commute_riders = df_commute['Total Users'].sum()"
   ]
  },
  {
   "cell_type": "code",
   "execution_count": 62,
   "metadata": {},
   "outputs": [],
   "source": [
    "non_commute_riders = df['Total Users'].sum() - commute_riders"
   ]
  },
  {
   "cell_type": "code",
   "execution_count": 63,
   "metadata": {},
   "outputs": [],
   "source": [
    "x = ['Commuter Rides', 'Non-Commuter Rides']\n",
    "y = [commute_riders, non_commute_riders]"
   ]
  },
  {
   "cell_type": "code",
   "execution_count": 64,
   "metadata": {
    "scrolled": false
   },
   "outputs": [
    {
     "data": {
      "image/png": "[encoded data removed]",
      "text/plain": [
       "<Figure size 576x576 with 1 Axes>"
      ]
     },
     "metadata": {
      "needs_background": "light"
     },
     "output_type": "display_data"
    }
   ],
   "source": [
    "plt.figure(figsize=(8,8))\n",
    "plt.bar(x, y, color ='darkturquoise')\n",
    "plt.title('Commuter Rides  (7-9am and 5-7pm)')\n",
    "plt.show()"
   ]
  },
  {
   "cell_type": "code",
   "execution_count": 65,
   "metadata": {},
   "outputs": [
    {
     "data": {
      "text/plain": [
       "43.97729022476834"
      ]
     },
     "execution_count": 65,
     "metadata": {},
     "output_type": "execute_result"
    }
   ],
   "source": [
    "commute_riders/(commute_riders + non_commute_riders)*100"
   ]
  },
  {
   "cell_type": "markdown",
   "metadata": {},
   "source": [
    "Increasing the window of commuter times to 7-9am and 5-7pm shows that about 45% of total rides are commuters."
   ]
  },
  {
   "cell_type": "markdown",
   "metadata": {},
   "source": [
    "### Look into what is counted as a holiday here..."
   ]
  },
  {
   "cell_type": "code",
   "execution_count": 11,
   "metadata": {},
   "outputs": [
    {
     "data": {
      "text/plain": [
       "2012-04-16    24\n",
       "2012-07-04    24\n",
       "2011-10-10    24\n",
       "2012-05-28    24\n",
       "2011-11-24    24\n",
       "2011-04-15    24\n",
       "2011-05-30    24\n",
       "2012-01-16    24\n",
       "2012-09-03    24\n",
       "2012-11-12    24\n",
       "2011-01-17    24\n",
       "2011-09-05    24\n",
       "2011-11-11    24\n",
       "2011-07-04    24\n",
       "2012-10-08    24\n",
       "2012-11-22    24\n",
       "2011-02-21    24\n",
       "2011-12-26    23\n",
       "2012-01-02    23\n",
       "2012-12-25    23\n",
       "2012-02-20    23\n",
       "Name: Date, dtype: int64"
      ]
     },
     "execution_count": 11,
     "metadata": {},
     "output_type": "execute_result"
    }
   ],
   "source": [
    "df[df.Holiday == 1]['Date'].value_counts()"
   ]
  },
  {
   "cell_type": "markdown",
   "metadata": {},
   "source": [
    "- Martin Luther King, Jr. Day\n",
    "- President's Day\n",
    "- Easter\n",
    "- Memorial Day\n",
    "- Independence Day\n",
    "- Labor Day\n",
    "- Columbus Day\n",
    "- Veterans' Day\n",
    "- Thanksgiving\n",
    "- Christmas\n",
    "- New Years"
   ]
  },
  {
   "cell_type": "code",
   "execution_count": null,
   "metadata": {},
   "outputs": [],
   "source": []
  }
 ],
 "metadata": {
  "kernelspec": {
   "display_name": "Python 3",
   "language": "python",
   "name": "python3"
  },
  "language_info": {
   "codemirror_mode": {
    "name": "ipython",
    "version": 3
   },
   "file_extension": ".py",
   "mimetype": "text/x-python",
   "name": "python",
   "nbconvert_exporter": "python",
   "pygments_lexer": "ipython3",
   "version": "3.7.6"
  }
 },
 "nbformat": 4,
 "nbformat_minor": 4
}
