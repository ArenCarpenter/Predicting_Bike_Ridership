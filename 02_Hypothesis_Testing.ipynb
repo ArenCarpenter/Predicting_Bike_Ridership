{
 "cells": [
  {
   "cell_type": "markdown",
   "metadata": {},
   "source": [
    "# Hypothesis Testing"
   ]
  },
  {
   "cell_type": "markdown",
   "metadata": {},
   "source": [
    "## Getting Started\n",
    "### Libraries to Import"
   ]
  },
  {
   "cell_type": "code",
   "execution_count": 1,
   "metadata": {},
   "outputs": [],
   "source": [
    "import pandas as pd\n",
    "import numpy as np\n",
    "import matplotlib.pyplot as plt\n",
    "import seaborn as sns\n",
    "\n",
    "import scipy.stats"
   ]
  },
  {
   "cell_type": "markdown",
   "metadata": {},
   "source": [
    "### Read in Data\n",
    "\n",
    "This is a fairly common dataset, here sourced from [data.world](https://data.world/data-society/capital-bikeshare-2011-2012), but also available from the UCI database."
   ]
  },
  {
   "cell_type": "code",
   "execution_count": 2,
   "metadata": {},
   "outputs": [],
   "source": [
    "df = pd.read_csv('Data/bike_data.csv')"
   ]
  },
  {
   "cell_type": "markdown",
   "metadata": {},
   "source": [
    "## Data Cleaning"
   ]
  },
  {
   "cell_type": "markdown",
   "metadata": {},
   "source": [
    "Our date column was an object, so transform to a datetime with pandas and create a new column for Month."
   ]
  },
  {
   "cell_type": "code",
   "execution_count": 3,
   "metadata": {},
   "outputs": [],
   "source": [
    "df.Date = pd.to_datetime(arg=df.Date) #dtype('<M8[ns]')\n",
    "df['Month'] = df['Date'].dt.month"
   ]
  },
  {
   "cell_type": "code",
   "execution_count": 4,
   "metadata": {
    "scrolled": false
   },
   "outputs": [
    {
     "data": {
      "text/html": [
       "<div>\n",
       "<style scoped>\n",
       "    .dataframe tbody tr th:only-of-type {\n",
       "        vertical-align: middle;\n",
       "    }\n",
       "\n",
       "    .dataframe tbody tr th {\n",
       "        vertical-align: top;\n",
       "    }\n",
       "\n",
       "    .dataframe thead th {\n",
       "        text-align: right;\n",
       "    }\n",
       "</style>\n",
       "<table border=\"1\" class=\"dataframe\">\n",
       "  <thead>\n",
       "    <tr style=\"text-align: right;\">\n",
       "      <th></th>\n",
       "      <th>Date</th>\n",
       "      <th>Season</th>\n",
       "      <th>Hour</th>\n",
       "      <th>Holiday</th>\n",
       "      <th>Day of the Week</th>\n",
       "      <th>Working Day</th>\n",
       "      <th>Weather Type</th>\n",
       "      <th>Temperature F</th>\n",
       "      <th>Temperature Feels F</th>\n",
       "      <th>Humidity</th>\n",
       "      <th>Wind Speed</th>\n",
       "      <th>Casual Users</th>\n",
       "      <th>Registered Users</th>\n",
       "      <th>Total Users</th>\n",
       "      <th>Month</th>\n",
       "    </tr>\n",
       "  </thead>\n",
       "  <tbody>\n",
       "    <tr>\n",
       "      <th>10471</th>\n",
       "      <td>2012-03-17</td>\n",
       "      <td>1</td>\n",
       "      <td>10</td>\n",
       "      <td>0</td>\n",
       "      <td>6</td>\n",
       "      <td>0</td>\n",
       "      <td>2</td>\n",
       "      <td>59.0</td>\n",
       "      <td>60.8</td>\n",
       "      <td>77</td>\n",
       "      <td>6</td>\n",
       "      <td>140</td>\n",
       "      <td>303</td>\n",
       "      <td>443</td>\n",
       "      <td>3</td>\n",
       "    </tr>\n",
       "    <tr>\n",
       "      <th>459</th>\n",
       "      <td>2011-01-21</td>\n",
       "      <td>4</td>\n",
       "      <td>4</td>\n",
       "      <td>0</td>\n",
       "      <td>5</td>\n",
       "      <td>1</td>\n",
       "      <td>2</td>\n",
       "      <td>34.9</td>\n",
       "      <td>33.8</td>\n",
       "      <td>87</td>\n",
       "      <td>6</td>\n",
       "      <td>0</td>\n",
       "      <td>1</td>\n",
       "      <td>1</td>\n",
       "      <td>1</td>\n",
       "    </tr>\n",
       "    <tr>\n",
       "      <th>424</th>\n",
       "      <td>2011-01-19</td>\n",
       "      <td>4</td>\n",
       "      <td>17</td>\n",
       "      <td>0</td>\n",
       "      <td>3</td>\n",
       "      <td>1</td>\n",
       "      <td>1</td>\n",
       "      <td>47.0</td>\n",
       "      <td>42.8</td>\n",
       "      <td>57</td>\n",
       "      <td>22</td>\n",
       "      <td>7</td>\n",
       "      <td>190</td>\n",
       "      <td>197</td>\n",
       "      <td>1</td>\n",
       "    </tr>\n",
       "    <tr>\n",
       "      <th>3746</th>\n",
       "      <td>2011-06-10</td>\n",
       "      <td>2</td>\n",
       "      <td>0</td>\n",
       "      <td>0</td>\n",
       "      <td>5</td>\n",
       "      <td>1</td>\n",
       "      <td>3</td>\n",
       "      <td>76.3</td>\n",
       "      <td>80.6</td>\n",
       "      <td>65</td>\n",
       "      <td>15</td>\n",
       "      <td>8</td>\n",
       "      <td>61</td>\n",
       "      <td>69</td>\n",
       "      <td>6</td>\n",
       "    </tr>\n",
       "    <tr>\n",
       "      <th>12129</th>\n",
       "      <td>2012-05-25</td>\n",
       "      <td>1</td>\n",
       "      <td>14</td>\n",
       "      <td>0</td>\n",
       "      <td>5</td>\n",
       "      <td>1</td>\n",
       "      <td>1</td>\n",
       "      <td>79.8</td>\n",
       "      <td>84.2</td>\n",
       "      <td>58</td>\n",
       "      <td>9</td>\n",
       "      <td>104</td>\n",
       "      <td>263</td>\n",
       "      <td>367</td>\n",
       "      <td>5</td>\n",
       "    </tr>\n",
       "  </tbody>\n",
       "</table>\n",
       "</div>"
      ],
      "text/plain": [
       "            Date  Season  Hour  Holiday  Day of the Week  Working Day  \\\n",
       "10471 2012-03-17       1    10        0                6            0   \n",
       "459   2011-01-21       4     4        0                5            1   \n",
       "424   2011-01-19       4    17        0                3            1   \n",
       "3746  2011-06-10       2     0        0                5            1   \n",
       "12129 2012-05-25       1    14        0                5            1   \n",
       "\n",
       "       Weather Type  Temperature F  Temperature Feels F  Humidity  Wind Speed  \\\n",
       "10471             2           59.0                 60.8        77           6   \n",
       "459               2           34.9                 33.8        87           6   \n",
       "424               1           47.0                 42.8        57          22   \n",
       "3746              3           76.3                 80.6        65          15   \n",
       "12129             1           79.8                 84.2        58           9   \n",
       "\n",
       "       Casual Users  Registered Users  Total Users  Month  \n",
       "10471           140               303          443      3  \n",
       "459               0                 1            1      1  \n",
       "424               7               190          197      1  \n",
       "3746              8                61           69      6  \n",
       "12129           104               263          367      5  "
      ]
     },
     "execution_count": 4,
     "metadata": {},
     "output_type": "execute_result"
    }
   ],
   "source": [
    "df.sample(5)"
   ]
  },
  {
   "cell_type": "markdown",
   "metadata": {},
   "source": [
    "## Hypothesis Testing"
   ]
  },
  {
   "cell_type": "markdown",
   "metadata": {},
   "source": [
    "### Do users ride more during comfortable temperatures?"
   ]
  },
  {
   "cell_type": "markdown",
   "metadata": {},
   "source": [
    "Thanks to Matt Wilkins for his bike riding expertise. "
   ]
  },
  {
   "cell_type": "code",
   "execution_count": 5,
   "metadata": {},
   "outputs": [],
   "source": [
    "df['Comfortable Temp?'] = np.where((df['Temperature Feels F'] > 50) & (df['Temperature Feels F'] < 85), 1, 0)"
   ]
  },
  {
   "cell_type": "markdown",
   "metadata": {},
   "source": [
    "#### Let's Start with some Visualization"
   ]
  },
  {
   "cell_type": "code",
   "execution_count": 6,
   "metadata": {},
   "outputs": [
    {
     "data": {
      "image/png": "[encoded data removed]",
      "text/plain": [
       "<Figure size 1152x360 with 2 Axes>"
      ]
     },
     "metadata": {
      "needs_background": "light"
     },
     "output_type": "display_data"
    }
   ],
   "source": [
    "fig, ax = plt.subplots(1,2)\n",
    "sns.barplot(data=df, x='Comfortable Temp?', y='Registered Users', ax=ax[0], color = 'darkturquoise')\n",
    "sns.barplot(data=df, x='Comfortable Temp?', y='Casual Users', ax=ax[1], color = 'darkturquoise')\n",
    "ax[0].set(ylim=(0, 180))\n",
    "ax[1].set(ylim=(0, 180))\n",
    "fig.set_figheight(5)\n",
    "fig.set_figwidth(16)\n",
    "plt.show()"
   ]
  },
  {
   "cell_type": "code",
   "execution_count": 7,
   "metadata": {},
   "outputs": [],
   "source": [
    "comfy_registered = df[df['Comfortable Temp?'] == 1]['Registered Users']\n",
    "noncomfy_registered = df[df['Comfortable Temp?'] == 0]['Registered Users']"
   ]
  },
  {
   "cell_type": "code",
   "execution_count": 8,
   "metadata": {},
   "outputs": [
    {
     "data": {
      "text/plain": [
       "Ttest_indResult(statistic=19.141783708515234, pvalue=7.6926513295976845e-81)"
      ]
     },
     "execution_count": 8,
     "metadata": {},
     "output_type": "execute_result"
    }
   ],
   "source": [
    "scipy.stats.ttest_ind(comfy_registered, noncomfy_registered)"
   ]
  },
  {
   "cell_type": "markdown",
   "metadata": {},
   "source": [
    "With a p-value significantly lower than 0.05, we can conclude that these means are statistically different and that temperature does affect the level of registered ridership."
   ]
  },
  {
   "cell_type": "code",
   "execution_count": 9,
   "metadata": {},
   "outputs": [],
   "source": [
    "comfy_casual = df[df['Comfortable Temp?'] == 1]['Casual Users']\n",
    "noncomfy_casual = df[df['Comfortable Temp?'] == 0]['Casual Users']"
   ]
  },
  {
   "cell_type": "code",
   "execution_count": 10,
   "metadata": {},
   "outputs": [
    {
     "data": {
      "text/plain": [
       "Ttest_indResult(statistic=23.30627567580721, pvalue=2.4872749610746814e-118)"
      ]
     },
     "execution_count": 10,
     "metadata": {},
     "output_type": "execute_result"
    }
   ],
   "source": [
    "scipy.stats.ttest_ind(comfy_casual, noncomfy_casual)"
   ]
  },
  {
   "cell_type": "markdown",
   "metadata": {},
   "source": [
    "With a p-value significantly lower than 0.05, we can conclude that these means are statistically different and that temperature does affect the level of casual ridership."
   ]
  },
  {
   "cell_type": "markdown",
   "metadata": {},
   "source": [
    "### Does Weather Type affect ridership of registered users?\n",
    "\n",
    "How much does a bad weather day affect that day's rides/revenue?"
   ]
  },
  {
   "cell_type": "code",
   "execution_count": 11,
   "metadata": {},
   "outputs": [
    {
     "data": {
      "text/plain": [
       "[164.3238412336809, 145.57020246478874, 95.52360817477097, 71.66666666666667]"
      ]
     },
     "execution_count": 11,
     "metadata": {},
     "output_type": "execute_result"
    }
   ],
   "source": [
    "df_good = df[df['Weather Type'] == 1]['Registered Users'].mean()\n",
    "df_okay = df[df['Weather Type'] == 2]['Registered Users'].mean()\n",
    "df_poor = df[df['Weather Type'] == 3]['Registered Users'].mean()\n",
    "df_bad = df[df['Weather Type'] == 4]['Registered Users'].mean()\n",
    "\n",
    "[df_good, df_okay, df_poor, df_bad]"
   ]
  },
  {
   "cell_type": "code",
   "execution_count": 12,
   "metadata": {
    "scrolled": false
   },
   "outputs": [
    {
     "data": {
      "image/png": "[encoded data removed]",
      "text/plain": [
       "<Figure size 720x720 with 1 Axes>"
      ]
     },
     "metadata": {
      "needs_background": "light"
     },
     "output_type": "display_data"
    }
   ],
   "source": [
    "x = ['Good', 'Okay', 'Poor', 'Bad']\n",
    "y = [df_good, df_okay, df_poor, df_bad]\n",
    "\n",
    "plt.figure(figsize=(10,10))\n",
    "plt.bar(x, y, color = 'darkturquoise')\n",
    "plt.title('Mean Registered Rides by Weather Type')\n",
    "plt.show()"
   ]
  },
  {
   "cell_type": "code",
   "execution_count": 13,
   "metadata": {},
   "outputs": [
    {
     "data": {
      "text/plain": [
       "F_onewayResult(statistic=94.79420665557402, pvalue=7.480328863758025e-61)"
      ]
     },
     "execution_count": 13,
     "metadata": {},
     "output_type": "execute_result"
    }
   ],
   "source": [
    "scipy.stats.f_oneway(df[df['Weather Type'] == 1]['Registered Users'],\n",
    "df[df['Weather Type'] == 2]['Registered Users'],\n",
    "df[df['Weather Type'] == 3]['Registered Users'],\n",
    "df[df['Weather Type'] == 4]['Registered Users'])"
   ]
  },
  {
   "cell_type": "markdown",
   "metadata": {},
   "source": [
    "The F-stat and p-value are both significant, thus we can reject our null hypothesis that ridership is equal among all weather types (RegisteredUsers<sub>Good</sub> = RegisteredUsers<sub>Okay</sub> = RegisteredUsers<sub>Poor</sub> = RegisteredUsers<sub>Bad</sub>). We can conclude that there is a statistically significant difference between the groups, but without further ad-hoc tests we cannot conclude which group(s) is different."
   ]
  },
  {
   "cell_type": "markdown",
   "metadata": {},
   "source": [
    "### Are there more riders in 2011 or 2012?\n",
    "\n",
    "Is our market share growing?"
   ]
  },
  {
   "cell_type": "code",
   "execution_count": 14,
   "metadata": {},
   "outputs": [
    {
     "data": {
      "image/png": "[encoded data removed]",
      "text/plain": [
       "<Figure size 576x576 with 1 Axes>"
      ]
     },
     "metadata": {
      "needs_background": "light"
     },
     "output_type": "display_data"
    }
   ],
   "source": [
    "df_2011 = df.loc[df['Date'].dt.year == 2011]\n",
    "df_2012 = df.loc[df['Date'].dt.year == 2012]\n",
    "total_2011 = df_2011['Total Users'].mean()\n",
    "total_2012 = df_2012['Total Users'].mean()\n",
    "\n",
    "plt.figure(figsize=(8,8))\n",
    "plt.bar(x = ['2011 Rides', '2012 Rides'], height = [total_2011, total_2012], color = 'darkturquoise')\n",
    "plt.title('Mean Rides 2011 vs 2012')\n",
    "plt.ylim(0, 250)\n",
    "plt.show()"
   ]
  },
  {
   "cell_type": "code",
   "execution_count": 15,
   "metadata": {},
   "outputs": [
    {
     "data": {
      "text/plain": [
       "Ttest_indResult(statistic=-34.10813930288585, pvalue=7.213184208684302e-247)"
      ]
     },
     "execution_count": 15,
     "metadata": {},
     "output_type": "execute_result"
    }
   ],
   "source": [
    "scipy.stats.ttest_ind(df_2011['Total Users'], df_2012['Total Users'])"
   ]
  },
  {
   "cell_type": "markdown",
   "metadata": {},
   "source": [
    "Our T-Test reports a statistically significant difference between the two populations, and we can therefore reject our null hypothesis that the two years have the same mean. "
   ]
  },
  {
   "cell_type": "markdown",
   "metadata": {},
   "source": [
    "### Percentage of rides that are rush hour commutes? \n",
    "\n",
    "Idea is to say, here is when you should ride for less congestion."
   ]
  },
  {
   "cell_type": "markdown",
   "metadata": {},
   "source": [
    "Looking at commutes 7-8am and 5-6pm."
   ]
  },
  {
   "cell_type": "code",
   "execution_count": 16,
   "metadata": {},
   "outputs": [],
   "source": [
    "df_7a = df[df.Hour == 7]\n",
    "df_8a = df[df.Hour == 8]\n",
    "df_5p = df[df.Hour == 17]\n",
    "df_6p = df[df.Hour == 18]"
   ]
  },
  {
   "cell_type": "code",
   "execution_count": 17,
   "metadata": {},
   "outputs": [],
   "source": [
    "df_commute = pd.concat([df_7a, df_8a, df_5p, df_6p])"
   ]
  },
  {
   "cell_type": "code",
   "execution_count": 18,
   "metadata": {},
   "outputs": [],
   "source": [
    "commute_riders = df_commute['Total Users'].sum()"
   ]
  },
  {
   "cell_type": "code",
   "execution_count": 19,
   "metadata": {},
   "outputs": [],
   "source": [
    "non_commute_riders = df['Total Users'].sum() - commute_riders"
   ]
  },
  {
   "cell_type": "code",
   "execution_count": 20,
   "metadata": {},
   "outputs": [],
   "source": [
    "x = ['Commuter Rides', 'Non-Commuter Rides']\n",
    "y = [commute_riders, non_commute_riders]"
   ]
  },
  {
   "cell_type": "code",
   "execution_count": 21,
   "metadata": {
    "scrolled": false
   },
   "outputs": [
    {
     "data": {
      "image/png": "[encoded data removed]",
      "text/plain": [
       "<Figure size 576x576 with 1 Axes>"
      ]
     },
     "metadata": {
      "needs_background": "light"
     },
     "output_type": "display_data"
    }
   ],
   "source": [
    "plt.figure(figsize=(8,8))\n",
    "plt.bar(x, y, color ='darkturquoise')\n",
    "plt.title('Commuter Rides  (7-8am and 5-6pm)')\n",
    "plt.show()"
   ]
  },
  {
   "cell_type": "markdown",
   "metadata": {},
   "source": [
    "If we open up the commuter hours by an hour on each side, 7-9am and 5-7pm."
   ]
  },
  {
   "cell_type": "code",
   "execution_count": 22,
   "metadata": {},
   "outputs": [],
   "source": [
    "df_7a = df[df.Hour == 7]\n",
    "df_8a = df[df.Hour == 8]\n",
    "df_9a = df[df.Hour == 9]\n",
    "df_5p = df[df.Hour == 17]\n",
    "df_6p = df[df.Hour == 18]\n",
    "df_7p = df[df.Hour == 19]"
   ]
  },
  {
   "cell_type": "code",
   "execution_count": 23,
   "metadata": {},
   "outputs": [],
   "source": [
    "df_commute = pd.concat([df_7a, df_8a, df_9a, df_5p, df_6p, df_7p])"
   ]
  },
  {
   "cell_type": "code",
   "execution_count": 24,
   "metadata": {},
   "outputs": [],
   "source": [
    "commute_riders = df_commute['Total Users'].sum()"
   ]
  },
  {
   "cell_type": "code",
   "execution_count": 25,
   "metadata": {},
   "outputs": [],
   "source": [
    "non_commute_riders = df['Total Users'].sum() - commute_riders"
   ]
  },
  {
   "cell_type": "code",
   "execution_count": 26,
   "metadata": {},
   "outputs": [],
   "source": [
    "x = ['Commuter Rides', 'Non-Commuter Rides']\n",
    "y = [commute_riders, non_commute_riders]"
   ]
  },
  {
   "cell_type": "code",
   "execution_count": 27,
   "metadata": {
    "scrolled": false
   },
   "outputs": [
    {
     "data": {
      "image/png": "[encoded data removed]",
      "text/plain": [
       "<Figure size 576x576 with 1 Axes>"
      ]
     },
     "metadata": {
      "needs_background": "light"
     },
     "output_type": "display_data"
    }
   ],
   "source": [
    "plt.figure(figsize=(8,8))\n",
    "plt.bar(x, y, color ='darkturquoise')\n",
    "plt.title('Commuter Rides  (7-9am and 5-7pm)')\n",
    "plt.show()"
   ]
  },
  {
   "cell_type": "code",
   "execution_count": 28,
   "metadata": {},
   "outputs": [
    {
     "data": {
      "text/plain": [
       "43.97729022476834"
      ]
     },
     "execution_count": 28,
     "metadata": {},
     "output_type": "execute_result"
    }
   ],
   "source": [
    "commute_riders/(commute_riders + non_commute_riders)*100"
   ]
  },
  {
   "cell_type": "markdown",
   "metadata": {},
   "source": [
    "Increasing the window of commuter times to 7-9am and 5-7pm shows that about 45% of total rides are commuters."
   ]
  },
  {
   "cell_type": "markdown",
   "metadata": {},
   "source": [
    "### Do more riders ride in the morning or evening? \n",
    "\n",
    "Do people bike into work but not out, or vice versa, what are the pain points driving this behavior?"
   ]
  },
  {
   "cell_type": "code",
   "execution_count": 29,
   "metadata": {},
   "outputs": [],
   "source": [
    "morning_rides = pd.concat([df_7a, df_8a, df_9a])['Registered Users'].sum()\n",
    "evening_rides = pd.concat([df_5p, df_6p, df_7p])['Registered Users'].sum()"
   ]
  },
  {
   "cell_type": "code",
   "execution_count": 30,
   "metadata": {
    "scrolled": false
   },
   "outputs": [
    {
     "data": {
      "image/png": "[encoded data removed]",
      "text/plain": [
       "<Figure size 576x576 with 1 Axes>"
      ]
     },
     "metadata": {
      "needs_background": "light"
     },
     "output_type": "display_data"
    }
   ],
   "source": [
    "plt.figure(figsize=(8,8))\n",
    "plt.bar(x = ['Morning Rides', 'Evening Rides'], height = [morning_rides, evening_rides], color = 'darkturquoise')\n",
    "plt.title('Morning vs Evening Rides')\n",
    "plt.show()"
   ]
  },
  {
   "cell_type": "code",
   "execution_count": 31,
   "metadata": {},
   "outputs": [
    {
     "data": {
      "text/plain": [
       "Ttest_indResult(statistic=-16.84093083280438, pvalue=1.0452334780454361e-61)"
      ]
     },
     "execution_count": 31,
     "metadata": {},
     "output_type": "execute_result"
    }
   ],
   "source": [
    "scipy.stats.ttest_ind(pd.concat([df_7a, df_8a, df_9a])['Registered Users'], pd.concat([df_5p, df_6p, df_7p])['Registered Users'])"
   ]
  },
  {
   "cell_type": "markdown",
   "metadata": {},
   "source": [
    "There is a statistically significant difference between the number of morning rides and evening rides (p-value = 1.04e-61). If registered riders are full-time bike commuters, why are morning and evening rides not more similar? Is there a pain point here about bike availability in residential areas compared to the business center, aka bikes are becoming clustered downtown as people bike in? We would really need some GIS data to identify where bikes are located at specific hours. "
   ]
  },
  {
   "cell_type": "markdown",
   "metadata": {},
   "source": [
    "### Look into what is counted as a holiday here..."
   ]
  },
  {
   "cell_type": "code",
   "execution_count": 32,
   "metadata": {},
   "outputs": [
    {
     "data": {
      "text/plain": [
       "2012-04-16    24\n",
       "2012-07-04    24\n",
       "2011-10-10    24\n",
       "2012-05-28    24\n",
       "2011-11-24    24\n",
       "2011-04-15    24\n",
       "2011-05-30    24\n",
       "2012-01-16    24\n",
       "2012-09-03    24\n",
       "2012-11-12    24\n",
       "2011-01-17    24\n",
       "2011-09-05    24\n",
       "2011-11-11    24\n",
       "2011-07-04    24\n",
       "2012-10-08    24\n",
       "2012-11-22    24\n",
       "2011-02-21    24\n",
       "2011-12-26    23\n",
       "2012-01-02    23\n",
       "2012-12-25    23\n",
       "2012-02-20    23\n",
       "Name: Date, dtype: int64"
      ]
     },
     "execution_count": 32,
     "metadata": {},
     "output_type": "execute_result"
    }
   ],
   "source": [
    "df[df.Holiday == 1]['Date'].value_counts()"
   ]
  },
  {
   "cell_type": "markdown",
   "metadata": {},
   "source": [
    "- Martin Luther King, Jr. Day\n",
    "- President's Day\n",
    "- Easter\n",
    "- Memorial Day\n",
    "- Independence Day\n",
    "- Labor Day\n",
    "- Columbus Day\n",
    "- Veterans' Day\n",
    "- Thanksgiving\n",
    "- Christmas\n",
    "- New Years"
   ]
  }
 ],
 "metadata": {
  "kernelspec": {
   "display_name": "Python 3",
   "language": "python",
   "name": "python3"
  },
  "language_info": {
   "codemirror_mode": {
    "name": "ipython",
    "version": 3
   },
   "file_extension": ".py",
   "mimetype": "text/x-python",
   "name": "python",
   "nbconvert_exporter": "python",
   "pygments_lexer": "ipython3",
   "version": "3.7.6"
  }
 },
 "nbformat": 4,
 "nbformat_minor": 4
}
